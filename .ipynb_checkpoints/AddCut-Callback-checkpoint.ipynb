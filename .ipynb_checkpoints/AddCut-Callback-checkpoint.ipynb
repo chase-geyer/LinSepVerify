{
 "cells": [
  {
   "cell_type": "code",
   "execution_count": 1,
   "metadata": {},
   "outputs": [
    {
     "data": {
      "text/plain": [
       "MathOptInterface.LessThan{Float64}"
      ]
     },
     "execution_count": 1,
     "metadata": {},
     "output_type": "execute_result"
    }
   ],
   "source": [
    "import MathOptInterface\n",
    "using LinearAlgebra\n",
    "using JuMP, Gurobi, Test, Ipopt, Juniper\n",
    "const MOI = MathOptInterface\n",
    "const GT = MOI.GreaterThan{Float64}\n",
    "const LT = MOI.LessThan{Float64}"
   ]
  },
  {
   "cell_type": "code",
   "execution_count": 100,
   "metadata": {},
   "outputs": [
    {
     "name": "stdout",
     "output_type": "stream",
     "text": [
      "Academic license - for non-commercial use only - expires 2022-05-18\n",
      "Gurobi Optimizer version 9.1.2 build v9.1.2rc0 (mac64)\n",
      "Thread count: 10 physical cores, 10 logical processors, using up to 10 threads\n",
      "Optimize a model with 1 rows, 2 columns and 2 nonzeros\n",
      "Model fingerprint: 0xc5bc6d97\n",
      "Variable types: 0 continuous, 2 integer (2 binary)\n",
      "Coefficient statistics:\n",
      "  Matrix range     [1e+00, 1e+00]\n",
      "  Objective range  [1e+00, 1e+00]\n",
      "  Bounds range     [0e+00, 0e+00]\n",
      "  RHS range        [2e+00, 2e+00]\n",
      "Found heuristic solution: objective 1.0000000\n",
      "Presolve removed 1 rows and 2 columns\n",
      "Presolve time: 0.00s\n",
      "Presolve: All rows and columns removed\n",
      "\n",
      "Explored 0 nodes (0 simplex iterations) in 0.00 seconds\n",
      "Thread count was 1 (of 10 available processors)\n",
      "\n",
      "Solution count 1: 1 \n",
      "\n",
      "Optimal solution found (tolerance 1.00e-04)\n",
      "Best objective 1.000000000000e+00, best bound 1.000000000000e+00, gap 0.0000%\n",
      "\n",
      "User-callback calls 34, time in user-callback 0.00 sec\n",
      "  0.000523 seconds (662 allocations: 52.289 KiB)\n"
     ]
    }
   ],
   "source": [
    "model = Model(Gurobi.Optimizer)\n",
    "\n",
    "@variable(model, x, Bin)\n",
    "@variable(model, y, Bin)\n",
    "@constraint(model, x + y <= 1.5)\n",
    "@objective(model, Max, x + y)\n",
    "\n",
    "@time optimize!(model)"
   ]
  },
  {
   "cell_type": "code",
   "execution_count": 107,
   "metadata": {},
   "outputs": [
    {
     "name": "stdout",
     "output_type": "stream",
     "text": [
      "Academic license - for non-commercial use only - expires 2022-05-18\n",
      "Gurobi Optimizer version 9.1.2 build v9.1.2rc0 (mac64)\n",
      "Thread count: 10 physical cores, 10 logical processors, using up to 10 threads\n",
      "Optimize a model with 0 rows, 2 columns and 0 nonzeros\n",
      "Model fingerprint: 0x12a95a66\n",
      "Variable types: 0 continuous, 2 integer (0 binary)\n",
      "Coefficient statistics:\n",
      "  Matrix range     [0e+00, 0e+00]\n",
      "  Objective range  [1e+00, 1e+00]\n",
      "  Bounds range     [1e+00, 1e+00]\n",
      "  RHS range        [0e+00, 0e+00]\n",
      "Found heuristic solution: objective 2.0000000\n",
      "\n",
      "Explored 0 nodes (0 simplex iterations) in 0.00 seconds\n",
      "Thread count was 1 (of 10 available processors)\n",
      "\n",
      "Solution count 1: 2 \n",
      "\n",
      "Optimal solution found (tolerance 1.00e-04)\n",
      "Best objective 2.000000000000e+00, best bound 2.000000000000e+00, gap 0.0000%\n",
      "\n",
      "User-callback calls 21, time in user-callback 0.01 sec\n",
      "  0.013216 seconds (8.14 k allocations: 514.485 KiB, 97.68% compilation time)\n"
     ]
    }
   ],
   "source": [
    "model = direct_model(Gurobi.Optimizer())\n",
    "@variable(model, 0 <= x <= 1.0, Int)\n",
    "@variable(model, 0 <= y <= 1.0, Int)\n",
    "@objective(model, Max, x + y)\n",
    "function my_callback_function(cb_data, cb_where::Cint)\n",
    "    # You can query a callback attribute using GRBcbget\n",
    "    if cb_where == GRB_CB_MIPNODE\n",
    "        Gurobi.load_callback_variable_primal(cb_data, cb_where)\n",
    "        x_val = callback_value(cb_data, x)\n",
    "        y_val = callback_value(cb_data, y)\n",
    "        con = @build_constraint(x + y <= 1)\n",
    "        MOI.submit(model, MOI.UserCut(cb_data), con)\n",
    "    end\n",
    "    # Before querying `callback_value`, you must call:\n",
    "    #\n",
    "\n",
    "    return\n",
    "end\n",
    "\n",
    "MOI.set(model, Gurobi.CallbackFunction(), my_callback_function)\n",
    "@time optimize!(model)"
   ]
  },
  {
   "cell_type": "markdown",
   "metadata": {},
   "source": [
    "# Exact Verify"
   ]
  },
  {
   "cell_type": "code",
   "execution_count": 1,
   "metadata": {},
   "outputs": [
    {
     "data": {
      "text/plain": [
       "predict (generic function with 1 method)"
      ]
     },
     "execution_count": 1,
     "metadata": {},
     "output_type": "execute_result"
    }
   ],
   "source": [
    "include(\"CayleyVerify.jl\")\n",
    "include(\"DeepPoly.jl\")\n",
    "import Pickle\n",
    "\n",
    "# utility functions\n",
    "function dorefa_to_staircase(k::Int)\n",
    "    n = 2^k - 1\n",
    "    slopes = zeros(n+1)\n",
    "    breakpoints = [-Inf]\n",
    "    for i in 1:n\n",
    "        push!(breakpoints, (2*i-1)/n - 1)\n",
    "    end\n",
    "    push!(breakpoints, Inf)\n",
    "    \n",
    "    constant_terms = [-1.0]\n",
    "    for i in 1:n\n",
    "        push!(constant_terms, -1.0 + 2*i/n)\n",
    "    end\n",
    "    return StaircaseFunction(breakpoints, slopes, constant_terms)\n",
    "end\n",
    "\n",
    "function predict(neural_net, img)\n",
    "    num_layers = length(neural_net.weights)\n",
    "    a = img'\n",
    "    for i in 1:num_layers\n",
    "        a = a * neural_net.weights[i] + neural_net.biases[i]'\n",
    "        if i <= num_layers -1\n",
    "            a = [eval(neural_net.activation[i], a[j]) for j in 1:length(a)]'\n",
    "        end\n",
    "    end\n",
    "    output = a'\n",
    "    return findmax(output)[2]\n",
    "end"
   ]
  },
  {
   "cell_type": "code",
   "execution_count": 2,
   "metadata": {},
   "outputs": [
    {
     "name": "stdout",
     "output_type": "stream",
     "text": [
      "net loaded"
     ]
    }
   ],
   "source": [
    "net_from_pickle = Pickle.load(open(\"/Users/tuna/Documents/Projects/LinSepVerify/models/MNIST-DoReFa2_Dense256-Dense256.pkl\"))\n",
    "f = dorefa_to_staircase(2)\n",
    "activation = [f, f]\n",
    "neural_net = NeuralNetwork(net_from_pickle, activation)\n",
    "print(\"net loaded\")"
   ]
  },
  {
   "cell_type": "code",
   "execution_count": 3,
   "metadata": {},
   "outputs": [
    {
     "name": "stdout",
     "output_type": "stream",
     "text": [
      "images loaded"
     ]
    }
   ],
   "source": [
    "raw_imgs = Pickle.load(open(\"/Users/tuna/Documents/Projects/LinSepVerify/imgs/MNIST_images-for-verification\"))\n",
    "imgs = []\n",
    "for img in raw_imgs\n",
    "    img = vcat([w' for w in img] ...)\n",
    "    img = vcat(img'...)\n",
    "    push!(imgs, img)\n",
    "end\n",
    "labels = Pickle.load(open(\"/Users/tuna/Documents/Projects/LinSepVerify/imgs/MNIST_labels-for-verification\"))\n",
    "labels = Array{Int64}(labels.args[2][5])\n",
    "labels = [l+1 for l in labels]\n",
    "print(\"images loaded\")"
   ]
  },
  {
   "cell_type": "code",
   "execution_count": 4,
   "metadata": {
    "scrolled": false
   },
   "outputs": [
    {
     "name": "stdout",
     "output_type": "stream",
     "text": [
      "\n",
      "--------------------------------------------\n",
      "Warning: your license will expire in 14 days\n",
      "--------------------------------------------\n",
      "\n",
      "Academic license - for non-commercial use only - expires 2022-05-18\n",
      " 10.185220 seconds (21.16 M allocations: 1.184 GiB, 2.16% gc time, 0.52% compilation time)\n"
     ]
    }
   ],
   "source": [
    "t = @elapsed mip, variable_neuron_dict, neuron_integervar_dict = init_mip_deeppoly(neural_net, imgs[1], 0.008)\n",
    "true_label = labels[1]\n",
    "target_label = 2\n",
    "\n",
    "last_layer = last(neural_net.weights)\n",
    "objective = zeros(10)\n",
    "objective[target_label] = 1.0\n",
    "objective[true_label] = -1.0\n",
    "c = last_layer * objective\n",
    "\n",
    "for z in mip[:z]\n",
    "    set_binary(z)\n",
    "end\n",
    "\n",
    "num_layers = length(neural_net.weights)\n",
    "final_dim, output_dim = size(last_layer)\n",
    "@objective(mip, Max, sum(c[i]*mip[:x][num_layers, i] for i in 1:final_dim))\n",
    "@time optimize!(mip)"
   ]
  },
  {
   "cell_type": "code",
   "execution_count": 6,
   "metadata": {},
   "outputs": [
    {
     "name": "stdout",
     "output_type": "stream",
     "text": [
      "\n",
      "--------------------------------------------\n",
      "Warning: your license will expire in 14 days\n",
      "--------------------------------------------\n",
      "\n",
      "Academic license - for non-commercial use only - expires 2022-05-18\n"
     ]
    }
   ],
   "source": [
    "mip, variable_neuron_dict, neuron_integervar_dict = init_mip_deeppoly(neural_net, imgs[1], 0.008)\n",
    "true_label = labels[1]\n",
    "target_label = 2\n",
    "\n",
    "last_layer = last(neural_net.weights)\n",
    "objective = zeros(10) # always 10 classes\n",
    "objective[target_label] = 1.0\n",
    "objective[true_label] = -1.0\n",
    "c = last_layer * objective\n",
    "\n",
    "num_layers = length(neural_net.weights)\n",
    "final_dim, output_dim = size(last_layer)\n",
    "@objective(mip, Max, sum(c[i]*mip[:x][num_layers, i] for i in 1:final_dim))\n",
    "\n",
    "neurons_by_layer = [length(bias) for bias in neural_net.biases] #including input & output layer\n",
    "pushfirst!(neurons_by_layer, size(neural_net.weights[1])[1])\n",
    "pop!(neurons_by_layer)\n",
    "\n",
    "for z in mip[:z]\n",
    "    set_binary(z)\n",
    "end\n",
    "\n",
    "alphas = []\n",
    "for n in neurons_by_layer\n",
    "    push!(alphas, zeros(n))\n",
    "end"
   ]
  },
  {
   "cell_type": "code",
   "execution_count": 7,
   "metadata": {},
   "outputs": [
    {
     "name": "stdout",
     "output_type": "stream",
     "text": [
      "  5.296475 seconds (2.58 M allocations: 157.989 MiB, 0.28% gc time, 1.79% compilation time)\n"
     ]
    }
   ],
   "source": [
    "allocation1 = []\n",
    "allocation2 = []\n",
    "count = [0]\n",
    "function callback_cut(cb_data)\n",
    "    count[1] += 1\n",
    "    if count[1]%100 == 0\n",
    "        x_val = callback_value.(Ref(cb_data), mip[:x])\n",
    "        z_val = callback_value.(Ref(cb_data), mip[:z])\n",
    "        for i in 1:num_layers-1\n",
    "            bias = neural_net.biases[i]\n",
    "            weight = neural_net.weights[i]\n",
    "            n, m = size(weight)\n",
    "            for j in 1:m\n",
    "                num_pieces = neuron_integervar_dict[(i+1,j)]\n",
    "                z = [z_val[i+1,j,k] for k in 1:num_pieces]\n",
    "                fractional = false\n",
    "                for val in z\n",
    "                    if val > 1e-6 && val < 1-1e-6\n",
    "                        fractional = true\n",
    "                        break\n",
    "                    end\n",
    "                end\n",
    "                if !fractional\n",
    "                    continue\n",
    "                end\n",
    "                y = x_val[i+1, j]\n",
    "                x = [x_val[i, k] for k in 1:n]\n",
    "                neuron = variable_neuron_dict[mip[:x][i+1, j]]\n",
    "                t1 = @allocated update = update_alpha!(neuron, x, y, z, alphas[i])\n",
    "                if update\n",
    "                    t2 = @allocated upper_z = generate_zcoef_from_alpha(neuron, alphas[i], GT(y))\n",
    "                    t3 = @allocated lower_z = generate_zcoef_from_alpha(neuron, alphas[i], LT(y))\n",
    "                    upper_con = @build_constraint(mip[:x][i+1, j] <= sum(mip[:x][i, k]*alphas[i][k] for \n",
    "                                k in 1:n) + sum(mip[:z][i+1, j, p]*upper_z[p] for p in 1:num_pieces))\n",
    "                    lower_con = @build_constraint(mip[:x][i+1, j] >= sum(mip[:x][i, k]*alphas[i][k] for \n",
    "                                k in 1:n) + sum(mip[:z][i+1, j, p]*lower_z[p] for p in 1:num_pieces))\n",
    "                    MOI.submit(mip, MOI.UserCut(cb_data), upper_con)\n",
    "                    MOI.submit(mip, MOI.UserCut(cb_data), lower_con)\n",
    "                    push!(allocation2, t2+t3)\n",
    "                end\n",
    "                push!(allocation1, t1)\n",
    "            end\n",
    "        end\n",
    "    end\n",
    "end\n",
    "\n",
    "MOI.set(mip, MOI.UserCutCallback(), callback_cut)\n",
    "@time optimize!(mip)"
   ]
  },
  {
   "cell_type": "code",
   "execution_count": 10,
   "metadata": {},
   "outputs": [
    {
     "data": {
      "text/plain": [
       "21624576"
      ]
     },
     "execution_count": 10,
     "metadata": {},
     "output_type": "execute_result"
    }
   ],
   "source": [
    "sum(allocation1)"
   ]
  },
  {
   "cell_type": "code",
   "execution_count": 11,
   "metadata": {},
   "outputs": [
    {
     "data": {
      "text/plain": [
       "39704032"
      ]
     },
     "execution_count": 11,
     "metadata": {},
     "output_type": "execute_result"
    }
   ],
   "source": [
    "sum(allocation2)"
   ]
  },
  {
   "cell_type": "code",
   "execution_count": null,
   "metadata": {},
   "outputs": [],
   "source": [
    "sum"
   ]
  }
 ],
 "metadata": {
  "kernelspec": {
   "display_name": "Julia 1.6.5",
   "language": "julia",
   "name": "julia-1.6"
  },
  "language_info": {
   "file_extension": ".jl",
   "mimetype": "application/julia",
   "name": "julia",
   "version": "1.6.5"
  }
 },
 "nbformat": 4,
 "nbformat_minor": 5
}
