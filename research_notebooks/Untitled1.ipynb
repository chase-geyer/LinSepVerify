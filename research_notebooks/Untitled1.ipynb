{
 "cells": [
  {
   "cell_type": "code",
   "execution_count": 15,
   "metadata": {},
   "outputs": [
    {
     "data": {
      "text/plain": [
       "dorefa_to_staircase (generic function with 1 method)"
      ]
     },
     "metadata": {},
     "output_type": "display_data"
    }
   ],
   "source": [
    "include(\"CayleyVerify.jl\")\n",
    "include(\"DeepPoly.jl\")\n",
    "\n",
    "function dorefa_to_staircase(k::Int)\n",
    "    n = 2^k - 1\n",
    "    slopes = zeros(n+1)\n",
    "    breakpoints = [-Inf]\n",
    "    for i in 1:n\n",
    "        push!(breakpoints, (2*i-1)/n - 1)\n",
    "    end\n",
    "    push!(breakpoints, Inf)\n",
    "    \n",
    "    constant_terms = [-1.0]\n",
    "    for i in 1:n\n",
    "        push!(constant_terms, -1.0 + 2*i/n)\n",
    "    end\n",
    "    return StaircaseFunction(breakpoints, slopes, constant_terms)\n",
    "end"
   ]
  },
  {
   "cell_type": "code",
   "execution_count": 16,
   "metadata": {},
   "outputs": [
    {
     "name": "stdout",
     "output_type": "stream",
     "text": [
      "net loaded"
     ]
    }
   ],
   "source": [
    "using Pickle\n",
    "using Suppressor\n",
    "net_from_pickle = Pickle.load(open(\"./models/MNIST-DoReFa2_Dense256-Dense256.pkl\"))\n",
    "f = dorefa_to_staircase(2)\n",
    "activation = [f, f]\n",
    "neural_net = NeuralNetwork(net_from_pickle, activation)\n",
    "print(\"net loaded\")"
   ]
  },
  {
   "cell_type": "code",
   "execution_count": 17,
   "metadata": {},
   "outputs": [
    {
     "name": "stdout",
     "output_type": "stream",
     "text": [
      "images loaded"
     ]
    }
   ],
   "source": [
    "raw_imgs = Pickle.load(open(\"./imgs/MNIST_images-for-verification\"))\n",
    "imgs = []\n",
    "for img in raw_imgs\n",
    "    img = vcat([w' for w in img] ...)\n",
    "    img = vcat(img'...)\n",
    "    push!(imgs, img)\n",
    "end\n",
    "labels = Pickle.load(open(\"./imgs/MNIST_labels-for-verification\", \"r+\"))\n",
    "labels = Array{Int64}(labels.args[2][5])\n",
    "labels = [l+1 for l in labels]\n",
    "print(\"images loaded\")"
   ]
  },
  {
   "cell_type": "code",
   "execution_count": 18,
   "metadata": {},
   "outputs": [
    {
     "name": "stdout",
     "output_type": "stream",
     "text": [
      "Verify 1-th image \n",
      "Verify 2-th image \n",
      "Verify 3-th image \n",
      "Verify 4-th image \n",
      "Verify 5-th image \n",
      "Verify 6-th image \n",
      "Verify 7-th image \n",
      "Verify 8-th image \n",
      "Verify 9-th image \n",
      "Verify 10-th image \n",
      "Verify 11-th image \n",
      "Verify 12-th image \n",
      "Verify 13-th image \n",
      "Verify 14-th image \n",
      "Verify 15-th image \n",
      "Verify 16-th image \n",
      "Verify 17-th image \n",
      "Verify 18-th image \n",
      "Verify 19-th image \n"
     ]
    },
    {
     "ename": "UndefVarError",
     "evalue": "UndefVarError: `predict` not defined",
     "output_type": "error",
     "traceback": [
      "UndefVarError: `predict` not defined\n",
      "\n",
      "Stacktrace:\n",
      " [1] macro expansion\n",
      "   @ ~/OR-Research/LinSepVerify/Untitled1.ipynb:15 [inlined]\n",
      " [2] macro expansion\n",
      "   @ ~/.julia/packages/Suppressor/2hiVi/src/Suppressor.jl:22 [inlined]\n",
      " [3] top-level scope\n",
      "   @ ~/OR-Research/LinSepVerify/Untitled1.ipynb:10"
     ]
    }
   ],
   "source": [
    "using Printf\n",
    "upper_bound = 150\n",
    "lower_bound = 0\n",
    "count = 1\n",
    "for (img, label) in zip(imgs, labels)\n",
    "    @printf(\"Verify %d-th image \\n\", count)\n",
    "    vulnerable = false\n",
    "    for target_label in 1:10\n",
    "        if target_label != label\n",
    "            @suppress begin\n",
    "                opt_val, opt_sol_x, opt_sol_z = target_attack(neural_net, img, label, target_label, 0.008)\n",
    "                if opt_val > 0\n",
    "                    vulnerable = true\n",
    "                    adv_img = [opt_sol_x[1, j] for j in 1:784]\n",
    "                    pred = predict(neural_net, adv_img)\n",
    "                    if pred != label\n",
    "                        upper_bound -= 1\n",
    "                        break\n",
    "                    end\n",
    "                end\n",
    "            end\n",
    "        end\n",
    "    end\n",
    "    if vulnerable == false\n",
    "        lower_bound += 1\n",
    "    end\n",
    "    count += 1\n",
    "end"
   ]
  },
  {
   "cell_type": "code",
   "execution_count": 19,
   "metadata": {},
   "outputs": [
    {
     "data": {
      "text/plain": [
       "0.000349416"
      ]
     },
     "metadata": {},
     "output_type": "display_data"
    }
   ],
   "source": [
    "start = time_ns()\n",
    "1+1\n",
    "finish = time_ns()\n",
    "(finish - start)/1e09"
   ]
  },
  {
   "cell_type": "code",
   "execution_count": 20,
   "metadata": {},
   "outputs": [
    {
     "data": {
      "text/plain": [
       "0x000004c7335c1a08"
      ]
     },
     "metadata": {},
     "output_type": "display_data"
    }
   ],
   "source": [
    "start"
   ]
  },
  {
   "cell_type": "code",
   "execution_count": 21,
   "metadata": {},
   "outputs": [],
   "source": []
  }
 ],
 "metadata": {
  "kernelspec": {
   "display_name": "Julia 1.9.4",
   "language": "julia",
   "name": "julia-1.9"
  },
  "language_info": {
   "file_extension": ".jl",
   "mimetype": "application/julia",
   "name": "julia",
   "version": "1.9.4"
  }
 },
 "nbformat": 4,
 "nbformat_minor": 4
}
