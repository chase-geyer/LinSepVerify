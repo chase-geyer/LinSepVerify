{
 "cells": [
  {
   "cell_type": "code",
   "execution_count": 1,
   "metadata": {},
   "outputs": [
    {
     "data": {
      "text/plain": [
       "target_attack (generic function with 3 methods)"
      ]
     },
     "execution_count": 1,
     "metadata": {},
     "output_type": "execute_result"
    }
   ],
   "source": [
    "include(\"CayleyVerify.jl\")"
   ]
  },
  {
   "cell_type": "code",
   "execution_count": 2,
   "metadata": {},
   "outputs": [
    {
     "data": {
      "text/plain": [
       "dorefa_to_staircase (generic function with 1 method)"
      ]
     },
     "execution_count": 2,
     "metadata": {},
     "output_type": "execute_result"
    }
   ],
   "source": [
    "function dorefa_to_staircase(k::Int)\n",
    "    n = 2^k - 1\n",
    "    slopes = zeros(n+1)\n",
    "    breakpoints = [-Inf]\n",
    "    for i in 1:n\n",
    "        push!(breakpoints, (2*i-1)/n - 1)\n",
    "    end\n",
    "    push!(breakpoints, Inf)\n",
    "    \n",
    "    constant_terms = [-1.0]\n",
    "    for i in 1:n\n",
    "        push!(constant_terms, -1.0 + 2*i/n)\n",
    "    end\n",
    "    return StaircaseFunction(breakpoints, slopes, constant_terms)\n",
    "end"
   ]
  },
  {
   "cell_type": "code",
   "execution_count": 17,
   "metadata": {},
   "outputs": [
    {
     "name": "stdout",
     "output_type": "stream",
     "text": [
      "net loaded"
     ]
    }
   ],
   "source": [
    "using Pickle\n",
    "using Suppressor\n",
    "net_from_pickle = Pickle.load(open(\"./models/MNIST-DoReFa2:Dense256-Dense256.pkl\"))\n",
    "f = dorefa_to_staircase(2)\n",
    "activation = [f, f]\n",
    "neural_net = NeuralNetwork(net_from_pickle, activation)\n",
    "print(\"net loaded\")"
   ]
  },
  {
   "cell_type": "code",
   "execution_count": 18,
   "metadata": {},
   "outputs": [
    {
     "ename": "LoadError",
     "evalue": "\u001b[91mMethodError: no method matching iterate(::Nothing)\u001b[39m\n\u001b[91m\u001b[0mClosest candidates are:\u001b[39m\n\u001b[91m\u001b[0m  iterate(\u001b[91m::LibGit2.GitRevWalker\u001b[39m) at /buildworker/worker/package_linux64/build/usr/share/julia/stdlib/v1.5/LibGit2/src/walker.jl:29\u001b[39m\n\u001b[91m\u001b[0m  iterate(\u001b[91m::LibGit2.GitRevWalker\u001b[39m, \u001b[91m::Any\u001b[39m) at /buildworker/worker/package_linux64/build/usr/share/julia/stdlib/v1.5/LibGit2/src/walker.jl:29\u001b[39m\n\u001b[91m\u001b[0m  iterate(\u001b[91m::DataStructures.IntSet\u001b[39m) at /home/tuna/.julia/packages/DataStructures/DLSxi/src/int_set.jl:177\u001b[39m\n\u001b[91m\u001b[0m  ...\u001b[39m",
     "output_type": "error",
     "traceback": [
      "\u001b[91mMethodError: no method matching iterate(::Nothing)\u001b[39m\n\u001b[91m\u001b[0mClosest candidates are:\u001b[39m\n\u001b[91m\u001b[0m  iterate(\u001b[91m::LibGit2.GitRevWalker\u001b[39m) at /buildworker/worker/package_linux64/build/usr/share/julia/stdlib/v1.5/LibGit2/src/walker.jl:29\u001b[39m\n\u001b[91m\u001b[0m  iterate(\u001b[91m::LibGit2.GitRevWalker\u001b[39m, \u001b[91m::Any\u001b[39m) at /buildworker/worker/package_linux64/build/usr/share/julia/stdlib/v1.5/LibGit2/src/walker.jl:29\u001b[39m\n\u001b[91m\u001b[0m  iterate(\u001b[91m::DataStructures.IntSet\u001b[39m) at /home/tuna/.julia/packages/DataStructures/DLSxi/src/int_set.jl:177\u001b[39m\n\u001b[91m\u001b[0m  ...\u001b[39m",
      "",
      "Stacktrace:",
      " [1] join(::Base.GenericIOBuffer{Array{UInt8,1}}, ::Nothing, ::Char) at ./strings/io.jl:294",
      " [2] sprint(::Function, ::Nothing, ::Vararg{Any,N} where N; context::Nothing, sizehint::Int64) at ./strings/io.jl:105",
      " [3] sprint(::Function, ::Nothing, ::Vararg{Any,N} where N) at ./strings/io.jl:101",
      " [4] join(::Nothing, ::Char) at ./strings/io.jl:301",
      " [5] execute!(::Pickler{4}, ::Val{Pickle.OpCodes.STACK_GLOBAL}, ::Nothing) at /home/tuna/.julia/packages/Pickle/Njhfn/src/deserializer.jl:165",
      " [6] run!(::Pickler{4}, ::Pickle.OpCodes.OpCode, ::IOStream) at /home/tuna/.julia/packages/Pickle/Njhfn/src/deserializer.jl:24",
      " [7] load(::Pickler{4}, ::IOStream) at /home/tuna/.julia/packages/Pickle/Njhfn/src/deserializer.jl:14",
      " [8] load(::IOStream; proto::Int64) at /home/tuna/.julia/packages/Pickle/Njhfn/src/deserializer.jl:10",
      " [9] load(::IOStream) at /home/tuna/.julia/packages/Pickle/Njhfn/src/deserializer.jl:10",
      " [10] top-level scope at In[18]:8",
      " [11] include_string(::Function, ::Module, ::String, ::String) at ./loading.jl:1091"
     ]
    }
   ],
   "source": [
    "raw_imgs = Pickle.load(open(\"./imgs/MNIST:images-for-verification\"))\n",
    "imgs = []\n",
    "for img in raw_imgs\n",
    "    img = vcat([w' for w in img] ...)\n",
    "    img = vcat(img'...)\n",
    "    push!(imgs, img)\n",
    "end\n",
    "labels = Pickle.load(open(\"./imgs/MNIST:labels-for-verification\", \"r+\"))\n",
    "labels = Array{Int64}(labels.args[2][5])\n",
    "labels = [l+1 for l in labels]\n",
    "print(\"images loaded\")"
   ]
  },
  {
   "cell_type": "code",
   "execution_count": 5,
   "metadata": {},
   "outputs": [
    {
     "data": {
      "text/plain": [
       "predict (generic function with 1 method)"
      ]
     },
     "execution_count": 5,
     "metadata": {},
     "output_type": "execute_result"
    }
   ],
   "source": [
    "function predict(neural_net, img)\n",
    "    num_layers = length(neural_net.weights)\n",
    "    a = img'\n",
    "    for i in 1:num_layers\n",
    "        a = a * neural_net.weights[i] + neural_net.biases[i]'\n",
    "        if i <= num_layers -1\n",
    "            a = [eval(neural_net.activation[i], a[j]) for j in 1:length(a)]'\n",
    "        end\n",
    "    end\n",
    "    output = a'\n",
    "    return findmax(output)[2]\n",
    "end"
   ]
  },
  {
   "cell_type": "code",
   "execution_count": 6,
   "metadata": {
    "scrolled": true
   },
   "outputs": [
    {
     "name": "stdout",
     "output_type": "stream",
     "text": [
      "Verify 1-th image \n",
      "Verify 2-th image \n",
      "Verify 3-th image \n",
      "Verify 4-th image \n",
      "Verify 5-th image \n",
      "Verify 6-th image \n",
      "Verify 7-th image \n",
      "Verify 8-th image \n",
      "Verify 9-th image \n",
      "Verify 10-th image \n",
      "Verify 11-th image \n",
      "Verify 12-th image \n",
      "Verify 13-th image \n",
      "Verify 14-th image \n",
      "Verify 15-th image \n",
      "Verify 16-th image \n",
      "Verify 17-th image \n",
      "Verify 18-th image \n",
      "Verify 19-th image \n",
      "Verify 20-th image \n",
      "Verify 21-th image \n",
      "Verify 22-th image \n",
      "Verify 23-th image \n",
      "Verify 24-th image \n",
      "Verify 25-th image \n",
      "Verify 26-th image \n",
      "Verify 27-th image \n",
      "Verify 28-th image \n",
      "Verify 29-th image \n",
      "Verify 30-th image \n",
      "Verify 31-th image \n",
      "Verify 32-th image \n",
      "Verify 33-th image \n",
      "Verify 34-th image \n",
      "Verify 35-th image \n",
      "Verify 36-th image \n",
      "Verify 37-th image \n",
      "Verify 38-th image \n",
      "Verify 39-th image \n",
      "Verify 40-th image \n",
      "Verify 41-th image \n",
      "Verify 42-th image \n",
      "Verify 43-th image \n",
      "Verify 44-th image \n",
      "Verify 45-th image \n",
      "Verify 46-th image \n",
      "Verify 47-th image \n",
      "Verify 48-th image \n",
      "Verify 49-th image \n",
      "Verify 50-th image \n",
      "Verify 51-th image \n",
      "Verify 52-th image \n",
      "Verify 53-th image \n",
      "Verify 54-th image \n",
      "Verify 55-th image \n",
      "Verify 56-th image \n",
      "Verify 57-th image \n",
      "Verify 58-th image \n",
      "Verify 59-th image \n",
      "Verify 60-th image \n",
      "Verify 61-th image \n",
      "Verify 62-th image \n",
      "Verify 63-th image \n",
      "Verify 64-th image \n",
      "Verify 65-th image \n",
      "Verify 66-th image \n",
      "Verify 67-th image \n",
      "Verify 68-th image \n",
      "Verify 69-th image \n",
      "Verify 70-th image \n",
      "Verify 71-th image \n",
      "Verify 72-th image \n",
      "Verify 73-th image \n",
      "Verify 74-th image \n",
      "Verify 75-th image \n",
      "Verify 76-th image \n",
      "Verify 77-th image \n",
      "Verify 78-th image \n",
      "Verify 79-th image \n",
      "Verify 80-th image \n",
      "Verify 81-th image \n",
      "Verify 82-th image \n",
      "Verify 83-th image \n",
      "Verify 84-th image \n",
      "Verify 85-th image \n",
      "Verify 86-th image \n",
      "Verify 87-th image \n",
      "Verify 88-th image \n",
      "Verify 89-th image \n",
      "Verify 90-th image \n",
      "Verify 91-th image \n",
      "Verify 92-th image \n",
      "Verify 93-th image \n",
      "Verify 94-th image \n",
      "Verify 95-th image \n",
      "Verify 96-th image \n",
      "Verify 97-th image \n",
      "Verify 98-th image \n",
      "Verify 99-th image \n",
      "Verify 100-th image \n",
      "Verify 101-th image \n",
      "Verify 102-th image \n",
      "Verify 103-th image \n",
      "Verify 104-th image \n",
      "Verify 105-th image \n",
      "Verify 106-th image \n",
      "Verify 107-th image \n",
      "Verify 108-th image \n",
      "Verify 109-th image \n",
      "Verify 110-th image \n",
      "Verify 111-th image \n",
      "Verify 112-th image \n",
      "Verify 113-th image \n",
      "Verify 114-th image \n",
      "Verify 115-th image \n",
      "Verify 116-th image \n",
      "Verify 117-th image \n",
      "Verify 118-th image \n",
      "Verify 119-th image \n",
      "Verify 120-th image \n",
      "Verify 121-th image \n",
      "Verify 122-th image \n",
      "Verify 123-th image \n",
      "Verify 124-th image \n",
      "Verify 125-th image \n",
      "Verify 126-th image \n",
      "Verify 127-th image \n",
      "Verify 128-th image \n",
      "Verify 129-th image \n",
      "Verify 130-th image \n",
      "Verify 131-th image \n",
      "Verify 132-th image \n",
      "Verify 133-th image \n",
      "Verify 134-th image \n",
      "Verify 135-th image \n",
      "Verify 136-th image \n",
      "Verify 137-th image \n",
      "Verify 138-th image \n",
      "Verify 139-th image \n",
      "Verify 140-th image \n",
      "Verify 141-th image \n",
      "Verify 142-th image \n",
      "Verify 143-th image \n",
      "Verify 144-th image \n",
      "Verify 145-th image \n",
      "Verify 146-th image \n",
      "Verify 147-th image \n",
      "Verify 148-th image \n",
      "Verify 149-th image \n",
      "Verify 150-th image \n"
     ]
    }
   ],
   "source": [
    "using Printf\n",
    "upper_bound = 150\n",
    "lower_bound = 0\n",
    "count = 1\n",
    "for (img, label) in zip(imgs, labels)\n",
    "    @printf(\"Verify %d-th image \\n\", count)\n",
    "    vulnerable = false\n",
    "    for target_label in 1:10\n",
    "        if target_label != label\n",
    "            @suppress begin\n",
    "                opt_val, opt_sol_x, opt_sol_z = target_attack(neural_net, img, label, target_label, 0.016)\n",
    "                if opt_val > 0\n",
    "                    vulnerable = true\n",
    "                    adv_img = [opt_sol_x[1, j] for j in 1:784]\n",
    "                    pred = predict(neural_net, adv_img)\n",
    "                    if pred != label\n",
    "                        upper_bound -= 1\n",
    "                        break\n",
    "                    end\n",
    "                end\n",
    "            end\n",
    "        end\n",
    "    end\n",
    "    if vulnerable == false\n",
    "        lower_bound += 1\n",
    "    end\n",
    "    count += 1\n",
    "end"
   ]
  },
  {
   "cell_type": "code",
   "execution_count": 9,
   "metadata": {},
   "outputs": [
    {
     "data": {
      "text/plain": [
       "130"
      ]
     },
     "execution_count": 9,
     "metadata": {},
     "output_type": "execute_result"
    }
   ],
   "source": [
    "lower_bound"
   ]
  },
  {
   "cell_type": "code",
   "execution_count": 10,
   "metadata": {},
   "outputs": [
    {
     "data": {
      "text/plain": [
       "146"
      ]
     },
     "execution_count": 10,
     "metadata": {},
     "output_type": "execute_result"
    }
   ],
   "source": [
    "upper_bound"
   ]
  },
  {
   "cell_type": "code",
   "execution_count": 11,
   "metadata": {},
   "outputs": [
    {
     "ename": "LoadError",
     "evalue": "UndefVarError: upper_bouund not defined",
     "output_type": "error",
     "traceback": [
      "UndefVarError: upper_bouund not defined",
      "",
      "Stacktrace:",
      " [1] top-level scope",
      "   @ :0",
      " [2] eval",
      "   @ ./boot.jl:360 [inlined]",
      " [3] include_string(mapexpr::typeof(REPL.softscope), mod::Module, code::String, filename::String)",
      "   @ Base ./loading.jl:1116"
     ]
    }
   ],
   "source": [
    "upper_bouund"
   ]
  },
  {
   "cell_type": "code",
   "execution_count": null,
   "metadata": {},
   "outputs": [],
   "source": []
  }
 ],
 "metadata": {
  "kernelspec": {
   "display_name": "Julia 1.5.3",
   "language": "julia",
   "name": "julia-1.5"
  },
  "language_info": {
   "file_extension": ".jl",
   "mimetype": "application/julia",
   "name": "julia",
   "version": "1.5.3"
  }
 },
 "nbformat": 4,
 "nbformat_minor": 5
}
