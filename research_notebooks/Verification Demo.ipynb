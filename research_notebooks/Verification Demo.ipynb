{
 "cells": [
  {
   "cell_type": "code",
   "execution_count": 5,
   "metadata": {},
   "outputs": [
    {
     "data": {
      "text/plain": [
       "MathOptInterface.LessThan{Float64}"
      ]
     },
     "metadata": {},
     "output_type": "display_data"
    }
   ],
   "source": [
    "import MathOptInterface\n",
    "using LinearAlgebra\n",
    "const MOI = MathOptInterface\n",
    "const GT = MOI.GreaterThan{Float64}\n",
    "const LT = MOI.LessThan{Float64}"
   ]
  },
  {
   "cell_type": "code",
   "execution_count": 6,
   "metadata": {},
   "outputs": [
    {
     "data": {
      "text/plain": [
       "eval (generic function with 4 methods)"
      ]
     },
     "metadata": {},
     "output_type": "display_data"
    }
   ],
   "source": [
    "abstract type UnivariateFunction end\n",
    "struct UnivariateAffineFunction <: UnivariateFunction\n",
    "    a::Float64\n",
    "    b::Float64\n",
    "end\n",
    "\n",
    "struct StaircaseFunction <: UnivariateFunction\n",
    "    breakpoints::Vector{Float64}\n",
    "    slopes::Vector{Float64}\n",
    "    constant_terms::Vector{Float64}\n",
    "    s::Float64\n",
    "    function StaircaseFunction(bp::Vector{Float64}, slps::Vector{Float64}, cons::Vector{Float64})\n",
    "        s = findmax(slps)[1]\n",
    "        @assert length(Set(slps)) <= 2\n",
    "        return new(bp, slps, cons, s)\n",
    "    end\n",
    "end\n",
    "\n",
    "function eval(f::UnivariateFunction, x::Float64) end\n",
    "function eval(f::UnivariateAffineFunction, x::Float64)\n",
    "    return f.a*x + f.b\n",
    "end\n",
    "\n",
    "function eval(f::StaircaseFunction, x::Float64)\n",
    "    bp = f.breakpoints\n",
    "    n = length(bp)\n",
    "    @assert x >= bp[1] && x <= bp[n]\n",
    "    if x == bp[n]\n",
    "        return f.slopes[n-1]*x + f.constant_terms[n-1]\n",
    "    else\n",
    "        i = searchsortedlast(bp, x)\n",
    "        return f.slopes[i]*x + f.constant_terms[i]\n",
    "    end\n",
    "end"
   ]
  },
  {
   "cell_type": "code",
   "execution_count": 7,
   "metadata": {},
   "outputs": [],
   "source": [
    "struct BoxDomain\n",
    "    lowerbound::Vector{Float64}\n",
    "    upperbound::Vector{Float64}\n",
    "    function BoxDomain(L::Vector{Float64}, U::Vector{Float64})\n",
    "        for (l, u) in zip(L, U)\n",
    "            if l > u\n",
    "                error(\"srsly dude ?!?\")\n",
    "            end\n",
    "        end\n",
    "        return new(L, U)\n",
    "    end\n",
    "end"
   ]
  },
  {
   "cell_type": "code",
   "execution_count": 8,
   "metadata": {},
   "outputs": [],
   "source": [
    "struct Neuron{F<:Union{StaircaseFunction, UnivariateAffineFunction}}\n",
    "    weight::Vector{Float64}\n",
    "    bias::Float64\n",
    "    activation::F\n",
    "    input_domain::BoxDomain\n",
    "    Δ::Vector{Float64}\n",
    "    H₁::Vector{Vector{Float64}} # coefficients of ψ when θ² = 0 \n",
    "    H₂::Vector{Vector{Float64}} # coefficients of ψ when θ¹ = 0\n",
    "end"
   ]
  },
  {
   "cell_type": "code",
   "execution_count": 9,
   "metadata": {},
   "outputs": [
    {
     "data": {
      "text/plain": [
       "Neuron"
      ]
     },
     "metadata": {},
     "output_type": "display_data"
    }
   ],
   "source": [
    "function Neuron(\n",
    "    w::Vector{Float64},\n",
    "    b::Float64,\n",
    "    f::StaircaseFunction,\n",
    "    D::BoxDomain,\n",
    "    )\n",
    "    U = D.upperbound\n",
    "    L = D.lowerbound\n",
    "    n = length(w)\n",
    "    h = f.breakpoints\n",
    "    k = length(h) - 1\n",
    "    \n",
    "    Δ = [(U[j] - L[j])*abs(w[j]) for j in 1:n]\n",
    "    \n",
    "    h₁ = h[2:k+1] .- b .- sum([w[i]*U[i] for i in 1:n if w[i] > 0]) .- \n",
    "                        sum([w[i]*L[i] for i in 1:n if w[i] < 0])\n",
    "    H₁ = [h₁ .+ sum(Δ[i:n]) for i in 1:n+1]\n",
    "    \n",
    "    h₂ = -h[k:-1:1] .+ b .+ sum([w[i]*U[i] for i in 1:n if w[i] < 0]) .+ \n",
    "                        sum([w[i]*L[i] for i in 1:n if w[i] > 0])\n",
    "    H₂ = [h₂ .+ sum(Δ[i:n]) for i in 1:n+1]\n",
    "    return Neuron(w, b, f, D, Δ, H₁, H₂)\n",
    "end"
   ]
  },
  {
   "cell_type": "code",
   "execution_count": 10,
   "metadata": {},
   "outputs": [
    {
     "data": {
      "text/plain": [
       "sanitycheck (generic function with 1 method)"
      ]
     },
     "metadata": {},
     "output_type": "display_data"
    }
   ],
   "source": [
    "function sanitycheck(\n",
    "        neuron::Neuron,\n",
    "        x::Vector{Float64}, \n",
    "        z::Vector{Float64},\n",
    "    )\n",
    "    if length(neuron.weight) != length(x)\n",
    "        error(\"Unmatch weight and input length!\")\n",
    "    elseif length(neuron.activation.slopes) != length(z)\n",
    "        error(\"Unmatch number of pieces in activation function and number of variables z!\")\n",
    "    elseif !isapprox(sum(z), 1) || any(z .< 0)\n",
    "        error(\"Variables z are not in a simplex!\")\n",
    "    elseif any(x .< neuron.input_domain.lowerbound) || any(x .> neuron.input_domain.upperbound)\n",
    "        error(\"Variables x are out of neuron input domain\")\n",
    "    end\n",
    "    return nothing\n",
    "end"
   ]
  },
  {
   "cell_type": "code",
   "execution_count": 11,
   "metadata": {},
   "outputs": [
    {
     "data": {
      "text/plain": [
       "generate_zcoef_from_alpha"
      ]
     },
     "metadata": {},
     "output_type": "display_data"
    }
   ],
   "source": [
    "\"\"\"\n",
    "Generate the coeficient for the z variables given an alpha\n",
    "\"\"\"\n",
    "function generate_zcoef_from_alpha(\n",
    "        neuron::Neuron{StaircaseFunction},\n",
    "        alpha::Vector{Float64},\n",
    "        sign::Union{LT, GT},\n",
    "    )\n",
    "    w = neuron.weight\n",
    "    @assert all(abs.(alpha) .<= abs.(w))\n",
    "    bias = neuron.bias\n",
    "    b = neuron.activation.constant_terms\n",
    "    \n",
    "    h = neuron.activation.breakpoints .- bias\n",
    "    c₀ = -alpha\n",
    "    c₁ = neuron.activation.s*w - alpha\n",
    "    \n",
    "    if sign isa GT\n",
    "        z₀ = solve_knapsackseries(c₀, neuron.input_domain, w, h)\n",
    "        z₁ = solve_knapsackseries(c₁, neuron.input_domain, w, h)\n",
    "    elseif sign isa LT\n",
    "        z₀ = -solve_knapsackseries(-c₀, neuron.input_domain, w, h)\n",
    "        z₁ = -solve_knapsackseries(-c₁, neuron.input_domain, w, h)\n",
    "    end\n",
    "    a = neuron.activation.slopes\n",
    "    return [a[i] > 0 ? z₁[i] + a[i]*bias + b[i] : z₀[i] + b[i] for i in 1:length(a)]\n",
    "end"
   ]
  },
  {
   "cell_type": "code",
   "execution_count": 12,
   "metadata": {},
   "outputs": [
    {
     "data": {
      "text/plain": [
       "solve_knapsackseries"
      ]
     },
     "metadata": {},
     "output_type": "display_data"
    }
   ],
   "source": [
    "\"\"\"\n",
    "Solve a series of knapsack-like problems of the form\n",
    "       max c ⋅ x\n",
    "subject to hᵢ ≤ w ⋅ x ≤ hᵢ₊₁\n",
    "           L ≤ x ≤ U\n",
    "for i ∈ {0, 1, 2, ..., k}. Here, we assume that when x is constrained in\n",
    "the box domain [L, U], max w ⋅ x = hₖ₊₁ and min w ⋅ x = h₀.\n",
    "\n",
    "The algorithm first solve max c ⋅ x with only one constraint that x lies\n",
    "in the box domain [L, U] to obtain an original optimal solution x₀. Then\n",
    "we find an index i₀ such that hᵢ₀ ≤ w ⋅ x₀ ≤ hᵢ₀₊₁. Next, we progress up\n",
    "ward and downward from i₀ to solve the remaining problems.\n",
    "\n",
    "The time complexity for this algorithm is O(max(k,n) + nlogn). However, \n",
    "in the context of network verification, the dimension of input to a neu-\n",
    "ron n is usually larger than the number of pieces k in its activation \n",
    "function. Thus, the time complexity of this algorithm for this particular\n",
    "application is O(nlogn).\n",
    "\n",
    "\"\"\"\n",
    "function solve_knapsackseries(\n",
    "        c::Vector{Float64},\n",
    "        box::BoxDomain,\n",
    "        w::Vector{Float64},\n",
    "        h::Vector{Float64},\n",
    "    )\n",
    "    U = box.upperbound\n",
    "    L = box.lowerbound\n",
    "    n = length(w)\n",
    "    k = length(h) - 1\n",
    "    z_coef = zeros(k)\n",
    "    \n",
    "    x₀ = [c[i] > 0 ? U[i] : L[i] for i in 1:n]\n",
    "    i₀ = min(searchsortedlast(h, w ⋅ x₀), k)\n",
    "    \n",
    "    var_score = [(i, w[i] != 0 ? c[i]/w[i] : Inf) for i in 1:n]\n",
    "    upperhalf_var_order = sort(filter(x -> x[2] <= 0, var_score), by = x -> abs(x[2]))\n",
    "    lowerhalf_var_order = sort(filter(x -> x[2] >= 0, var_score), by = x -> abs(x[2]))\n",
    "    \n",
    "    z_coef[i₀] = c ⋅ x₀\n",
    "    j = 1\n",
    "    optsol = copy(x₀)\n",
    "    count1 = 0\n",
    "    for i in i₀+1:1:k\n",
    "        while h[i] > w ⋅ optsol\n",
    "            gap = h[i] - w ⋅ optsol\n",
    "            var, value = upperhalf_var_order[j]\n",
    "            update = optsol[var] + gap / w[var]\n",
    "            if w[var] < 0\n",
    "                if L[var] >= update\n",
    "                    optsol[var] = L[var]\n",
    "                    j += 1\n",
    "                else\n",
    "                    optsol[var] = update\n",
    "                end\n",
    "            else\n",
    "                if U[var] <= update\n",
    "                    optsol[var] = U[var]\n",
    "                    j += 1\n",
    "                else\n",
    "                    optsol[var] = update\n",
    "                end\n",
    "            end\n",
    "            count1 += 1\n",
    "        end\n",
    "        z_coef[i] = c ⋅ optsol\n",
    "    end\n",
    "    j = 1\n",
    "    optsol = copy(x₀)\n",
    "    count2 = 0\n",
    "    for i in i₀-1:-1:1\n",
    "        while h[i+1] < w ⋅ optsol\n",
    "            gap = h[i+1] - w ⋅ optsol\n",
    "            var, value = lowerhalf_var_order[j]\n",
    "            update = optsol[var] + gap / w[var]\n",
    "            if w[var] > 0\n",
    "                if L[var] >= update\n",
    "                    optsol[var] = L[var]\n",
    "                    j += 1\n",
    "                else\n",
    "                    optsol[var] = update\n",
    "                end\n",
    "            else\n",
    "                if U[var] <= update\n",
    "                    optsol[var] = U[var]\n",
    "                    j += 1\n",
    "                else\n",
    "                    optsol[var] = update\n",
    "                end\n",
    "            end\n",
    "            count2 += 1\n",
    "        end\n",
    "        z_coef[i] = c ⋅ optsol\n",
    "    end\n",
    "    return z_coef\n",
    "end"
   ]
  },
  {
   "cell_type": "code",
   "execution_count": 13,
   "metadata": {},
   "outputs": [
    {
     "data": {
      "text/plain": [
       "optimal_ψ (generic function with 1 method)"
      ]
     },
     "metadata": {},
     "output_type": "display_data"
    }
   ],
   "source": [
    "function optimal_ψ(\n",
    "        x::Vector{Float64},\n",
    "        z::Vector{Float64},\n",
    "        Δ::Vector{Float64},\n",
    "        H::Vector{Vector{Float64}},\n",
    "    )\n",
    "    n = length(x)\n",
    "    k = length(z)\n",
    "    breakpoints = [x[i]/Δ[i]  for i in 1:n]\n",
    "    p = sortperm(breakpoints)\n",
    "    sort!(breakpoints)\n",
    "    pushfirst!(breakpoints, 0.0)\n",
    "    push!(breakpoints, 1.0)\n",
    "    x_bar = deepcopy(x)\n",
    "    pushfirst!(x_bar, 0.0)\n",
    "    Δ_bar = deepcopy(Δ)\n",
    "    pushfirst!(Δ_bar, 0.0)\n",
    "\n",
    "    optimal_value = 0.0\n",
    "    optimal_solution = zeros(k)\n",
    "    weighted_sum = 0.0 # sum of z_iq_i\n",
    "    i = 2\n",
    "    j = 1\n",
    "    while optimal_value >= 0 && i <= n+2\n",
    "        optimal_value = optimal_value - weighted_sum*Δ_bar[i-1] + x_bar[i-1]\n",
    "        for var in j:k\n",
    "            if z[var] == 0.0\n",
    "                j += 1\n",
    "                continue\n",
    "            end\n",
    "            if H[i-1][var] <= 0\n",
    "                if z[var]*(1 - optimal_solution[var]) <= breakpoints[i] - weighted_sum\n",
    "                    optimal_value += H[i-1][var]*(1 - optimal_solution[var])*z[var]\n",
    "                    weighted_sum += z[var]*(1 - optimal_solution[var])\n",
    "                    optimal_solution[var] = 1\n",
    "                    j += 1\n",
    "                else\n",
    "                    optimal_solution[var] += (breakpoints[i] - weighted_sum) / z[var]\n",
    "                    optimal_value += H[i-1][var]*(breakpoints[i] - weighted_sum)\n",
    "                    weighted_sum = breakpoints[i]\n",
    "                    break\n",
    "                end\n",
    "            else\n",
    "                if weighted_sum >= breakpoints[i-1]\n",
    "                    break\n",
    "                end\n",
    "                if z[var]*(1 - optimal_solution[var]) <= breakpoints[i-1] - weighted_sum\n",
    "                    optimal_value += H[i-1][var]*(1 - optimal_solution[var])*z[var]\n",
    "                    weighted_sum += z[var]*(1 - optimal_solution[var])\n",
    "                    optimal_solution[var] = 1\n",
    "                    j += 1\n",
    "                else\n",
    "                    optimal_solution[var] += (breakpoints[i-1] - weighted_sum) / z[var]\n",
    "                    optimal_value += H[i-1][var]*(breakpoints[i-1] - weighted_sum)\n",
    "                    weighted_sum = breakpoints[i-1]\n",
    "                    break\n",
    "                end\n",
    "            end\n",
    "        end\n",
    "        i = i + 1\n",
    "    end\n",
    "    return optimal_value, i-3, p\n",
    "end"
   ]
  },
  {
   "cell_type": "code",
   "execution_count": 14,
   "metadata": {},
   "outputs": [
    {
     "data": {
      "text/plain": [
       "generate_alpha (generic function with 1 method)"
      ]
     },
     "metadata": {},
     "output_type": "display_data"
    }
   ],
   "source": [
    "function generate_alpha(\n",
    "        neuron::Neuron{StaircaseFunction},\n",
    "        x::Vector{Float64},\n",
    "        y::Float64,\n",
    "        z::Vector{Float64},\n",
    "    )\n",
    "    w = neuron.weight\n",
    "    s = neuron.activation.s\n",
    "    b = neuron.bias\n",
    "    h = neuron.activation.breakpoints\n",
    "    L = neuron.input_domain.lowerbound\n",
    "    U = neuron.input_domain.upperbound\n",
    "    n = length(w)\n",
    "    k = length(h) - 1\n",
    "    \n",
    "    Δ = neuron.Δ\n",
    "    H = neuron.H₁\n",
    "    x_bar = [w[j] > 0 ? (U[j]-x[j])*w[j] : (L[j] - x[j])*w[j] for j in 1:n]\n",
    "    opt_value1, k₁, p1 = optimal_ψ(x_bar, z, Δ, H)\n",
    "    \n",
    "    H = neuron.H₂ #increasing order\n",
    "    x_bar = [w[j] < 0 ? (x[j]-U[j])*w[j] : (x[j] - L[j])*w[j] for j in 1:n]\n",
    "    opt_value2, k₂, p2 = optimal_ψ(x_bar, z[k:-1:1], Δ, H) #reordering H also requires reordering z\n",
    "    \n",
    "    alpha = zeros(n)\n",
    "    if opt_value1 >= -eps() && opt_value2 >= -eps()\n",
    "        return nothing\n",
    "    elseif opt_value1 < 0\n",
    "        for i in 1:k₁\n",
    "            alpha[p1[i]] = w[p1[i]] > 0 ? -w[p1[i]] : (w[p1[i]] < 0 ? -w[p1[i]] : 0)\n",
    "        end\n",
    "        return alpha\n",
    "    elseif opt_value2 < 0\n",
    "        for i in 1:k₂\n",
    "            alpha[p2[i]] = w[p2[i]] < 0 ? w[p2[i]] : (w[p2[i]] > 0 ? w[p2[i]] : 0)\n",
    "        end\n",
    "        return alpha\n",
    "    end\n",
    "end"
   ]
  },
  {
   "cell_type": "code",
   "execution_count": 15,
   "metadata": {},
   "outputs": [
    {
     "data": {
      "text/plain": [
       "separate (generic function with 1 method)"
      ]
     },
     "metadata": {},
     "output_type": "display_data"
    }
   ],
   "source": [
    "function separate(\n",
    "        neuron::Neuron{StaircaseFunction},\n",
    "        x::Vector{Float64},\n",
    "        y::Float64,\n",
    "        z::Vector{Float64},\n",
    "    )\n",
    "    alpha = generate_alpha(neuron, x, y, z)\n",
    "    if alpha == nothing\n",
    "        #print(\"\\nfeasible point!\\n\")\n",
    "        return nothing\n",
    "    else\n",
    "        upper_z_coef = generate_zcoef_from_alpha(neuron, alpha, GT(y))\n",
    "        lower_z_coef = generate_zcoef_from_alpha(neuron, alpha, LT(y))\n",
    "        return alpha, upper_z_coef, lower_z_coef\n",
    "    end\n",
    "end"
   ]
  },
  {
   "cell_type": "code",
   "execution_count": 16,
   "metadata": {
    "scrolled": true
   },
   "outputs": [
    {
     "ename": "ArgumentError",
     "evalue": "ArgumentError: Package Plots not found in current path.\n- Run `import Pkg; Pkg.add(\"Plots\")` to install the Plots package.",
     "output_type": "error",
     "traceback": [
      "ArgumentError: Package Plots not found in current path.\n",
      "- Run `import Pkg; Pkg.add(\"Plots\")` to install the Plots package.\n",
      "\n",
      "Stacktrace:\n",
      "  [1] macro expansion\n",
      "    @ ./loading.jl:1772 [inlined]\n",
      "  [2] macro expansion\n",
      "    @ ./lock.jl:267 [inlined]\n",
      "  [3] __require(into::Module, mod::Symbol)\n",
      "    @ Base ./loading.jl:1753\n",
      "  [4] #invoke_in_world#3\n",
      "    @ ./essentials.jl:926 [inlined]\n",
      "  [5] invoke_in_world\n",
      "    @ ./essentials.jl:923 [inlined]\n",
      "  [6] require(into::Module, mod::Symbol)\n",
      "    @ Base ./loading.jl:1746\n",
      "  [7] eval\n",
      "    @ ./boot.jl:385 [inlined]\n",
      "  [8] include_string(mapexpr::typeof(REPL.softscope), mod::Module, code::String, filename::String)\n",
      "    @ Base ./loading.jl:2076\n",
      "  [9] #invokelatest#2\n",
      "    @ ./essentials.jl:892 [inlined]\n",
      " [10] invokelatest\n",
      "    @ ./essentials.jl:889 [inlined]\n",
      " [11] (::VSCodeServer.var\"#216#217\"{VSCodeServer.NotebookRunCellArguments, String})()\n",
      "    @ VSCodeServer ~/.vscode/extensions/julialang.language-julia-1.76.2/scripts/packages/VSCodeServer/src/serve_notebook.jl:19\n",
      " [12] withpath(f::VSCodeServer.var\"#216#217\"{VSCodeServer.NotebookRunCellArguments, String}, path::String)\n",
      "    @ VSCodeServer ~/.vscode/extensions/julialang.language-julia-1.76.2/scripts/packages/VSCodeServer/src/repl.jl:274\n",
      " [13] notebook_runcell_request(conn::VSCodeServer.JSONRPC.JSONRPCEndpoint{Base.PipeEndpoint, Base.PipeEndpoint}, params::VSCodeServer.NotebookRunCellArguments)\n",
      "    @ VSCodeServer ~/.vscode/extensions/julialang.language-julia-1.76.2/scripts/packages/VSCodeServer/src/serve_notebook.jl:13\n",
      " [14] dispatch_msg(x::VSCodeServer.JSONRPC.JSONRPCEndpoint{Base.PipeEndpoint, Base.PipeEndpoint}, dispatcher::VSCodeServer.JSONRPC.MsgDispatcher, msg::Dict{String, Any})\n",
      "    @ VSCodeServer.JSONRPC ~/.vscode/extensions/julialang.language-julia-1.76.2/scripts/packages/JSONRPC/src/typed.jl:67\n",
      " [15] serve_notebook(pipename::String, outputchannel_logger::Base.CoreLogging.SimpleLogger; crashreporting_pipename::String)\n",
      "    @ VSCodeServer ~/.vscode/extensions/julialang.language-julia-1.76.2/scripts/packages/VSCodeServer/src/serve_notebook.jl:139\n",
      " [16] top-level scope\n",
      "    @ ~/.vscode/extensions/julialang.language-julia-1.76.2/scripts/notebook/notebook.jl:35"
     ]
    }
   ],
   "source": [
    "import Pickle\n",
    "using JuMP, Gurobi\n",
    "using Plots\n",
    "#neural_net = Pickle.load(open(\"models/MNIST-BAN_Dense100-Dense100.pkl\"))\n",
    "img = Pickle.load(open(\"imgs/MNIST_images-for-verification\"))\n",
    "#img = vcat([w' for w in img]...)\n",
    "#img = rotl90(img, 1)\n",
    "#img = rot180(img, 1)"
   ]
  },
  {
   "cell_type": "code",
   "execution_count": 17,
   "metadata": {},
   "outputs": [
    {
     "ename": "UndefVarError",
     "evalue": "UndefVarError: `img` not defined",
     "output_type": "error",
     "traceback": [
      "UndefVarError: `img` not defined\n",
      "\n",
      "Stacktrace:\n",
      " [1] top-level scope\n",
      "   @ ~/OR-Research/LinSepVerify/research_notebooks/Verification Demo.ipynb:1"
     ]
    }
   ],
   "source": [
    "im3 = vcat([w' for w in img[3]]...)\n",
    "#im3 = rotr90(im3, 1)\n",
    "#im3 = rot180(im3, 1)\n",
    "im3 = im3'\n",
    "im3 = rotr90(im3, 1)"
   ]
  },
  {
   "cell_type": "code",
   "execution_count": 18,
   "metadata": {},
   "outputs": [
    {
     "ename": "UndefVarError",
     "evalue": "UndefVarError: `heatmap` not defined",
     "output_type": "error",
     "traceback": [
      "UndefVarError: `heatmap` not defined\n",
      "\n",
      "Stacktrace:\n",
      " [1] top-level scope\n",
      "   @ ~/OR-Research/LinSepVerify/research_notebooks/Verification Demo.ipynb:1"
     ]
    }
   ],
   "source": [
    "heatmap(im3)"
   ]
  },
  {
   "cell_type": "code",
   "execution_count": 19,
   "metadata": {},
   "outputs": [
    {
     "ename": "UndefVarError",
     "evalue": "UndefVarError: `neural_net` not defined",
     "output_type": "error",
     "traceback": [
      "UndefVarError: `neural_net` not defined\n",
      "\n",
      "Stacktrace:\n",
      " [1] top-level scope\n",
      "   @ ~/OR-Research/LinSepVerify/research_notebooks/Verification Demo.ipynb:12"
     ]
    }
   ],
   "source": [
    "function preprocess(neural_net)\n",
    "    n = length(neural_net)\n",
    "    nn = []\n",
    "    for i in 1:n ÷ 2\n",
    "        weight = vcat([w' for w in neural_net[2*i-1]]...) #convert to matrix\n",
    "        bias = neural_net[2*i]\n",
    "        push!(nn, (weight, bias))\n",
    "    end\n",
    "    return nn\n",
    "end\n",
    "\n",
    "neural_net = preprocess(neural_net)"
   ]
  },
  {
   "cell_type": "code",
   "execution_count": 20,
   "metadata": {},
   "outputs": [
    {
     "data": {
      "text/plain": [
       "init_mip_model (generic function with 2 methods)"
      ]
     },
     "metadata": {},
     "output_type": "display_data"
    }
   ],
   "source": [
    "function init_mip_model(neural_net, image, true_label, eps = 0.01) #binary activation\n",
    "    neurons_by_layer = [length(bias) for (weight, bias) in neural_net] #including input & output layer\n",
    "    pushfirst!(neurons_by_layer, size(neural_net[1][1])[1])\n",
    "    nums_layer = length(neurons_by_layer)\n",
    "    mip = Model(Gurobi.Optimizer)\n",
    "    set_silent(mip)\n",
    "    @variable(mip, -1 <= x[i = 1:nums_layer-1, j = 1:neurons_by_layer[i]] <= 1)\n",
    "    for (i, val) in enumerate(image)\n",
    "        @constraint(mip, max(val-eps, -1.0) <= mip[:x][1, i] <= min(val+eps, 1.0))\n",
    "    end\n",
    "    @variable(mip, 0 <= z[i = 2:nums_layer-1, j = 1:neurons_by_layer[i], k = 1:2] <= 1, Bin)\n",
    "    variable_neuron_dict = Dict()\n",
    "    \n",
    "    for (i , (weights, bias)) in enumerate(neural_net[1:nums_layer-2])\n",
    "        n, m = size(weights)\n",
    "        for j in 1:m\n",
    "            w = Array{Float64}(weights[1:n, j])\n",
    "            b = bias[j]\n",
    "            l = sum([w[k] > 0 ? -w[k] : w[k] for k in 1:n])\n",
    "            f = StaircaseFunction([l + b, 0.0, -l + b], [0.0, 0.0], [-1.0, 1.0])\n",
    "            D = BoxDomain(-ones(n), ones(n))\n",
    "            neuron = Neuron(w, b, f, D)\n",
    "            variable_neuron_dict[mip[:x][i+1, j]] = neuron\n",
    "            \n",
    "            @constraint(mip, mip[:z][i+1,j,1] + mip[:z][i+1,j,2] == 1)\n",
    "            @constraint(mip, mip[:x][i+1,j] + mip[:z][i+1,j,1] - mip[:z][i+1,j,2] == 0)\n",
    "        end\n",
    "    end\n",
    "    return mip, variable_neuron_dict        \n",
    "end"
   ]
  },
  {
   "cell_type": "code",
   "execution_count": 21,
   "metadata": {},
   "outputs": [
    {
     "data": {
      "text/plain": [
       "verify (generic function with 3 methods)"
      ]
     },
     "metadata": {},
     "output_type": "display_data"
    }
   ],
   "source": [
    "using Printf\n",
    "function verify(neural_net, image, true_label, objective, eps = 0.01, max_iter = 1000)\n",
    "    # set objective for mip model\n",
    "    mip, variable_neuron_dict = init_mip_model(neural_net, image, true_label, eps)\n",
    "    last_layer = last(neural_net)[1]\n",
    "    c = last_layer * objective\n",
    "    #=for i in 2:10\n",
    "        @constraint(mip, sum(last_layer[1:100, i][j]*mip[:x][3, j] for j in 1:100) <=\n",
    "                         sum(last_layer[1:100, i][1]*mip[:x][3, j] for j in 1:100))\n",
    "    end=#\n",
    "    num_layers = length(neural_net)\n",
    "    final_dim, output_dim = size(last(neural_net)[1])\n",
    "    @objective(mip, Max, sum(c[i]*mip[:x][num_layers, i] for i in 1:final_dim))\n",
    "    \n",
    "    # separation procedure\n",
    "    feasible = false\n",
    "    count = 0\n",
    "    generated_alpha = Dict()\n",
    "    for (key, value) in variable_neuron_dict\n",
    "        generated_alpha[key] = Set()\n",
    "    end\n",
    "    while !feasible && count < max_iter\n",
    "        @printf(\"solving %d-th problem: \\n\", count+1)\n",
    "        @time optimize!(mip)\n",
    "        #TODO: parallel this part?\n",
    "        feasible = true\n",
    "        for (i, (weights, bias)) in enumerate(neural_net[1:num_layers-1])\n",
    "            n, m = size(weights)\n",
    "            @printf(\"   generate violating inequalities of layer %d: \\n   \", i+1)\n",
    "            @time for j in 1:m\n",
    "                y = value(mip[:x][i+1, j])\n",
    "                x = value.([mip[:x][i, k] for k in 1:n])\n",
    "                z = value.([mip[:z][i+1,j,1], mip[:z][i+1,j,2]])\n",
    "                neuron = variable_neuron_dict[mip[:x][i+1, j]]\n",
    "                alpha = generate_alpha(neuron, x, y, z)\n",
    "                if alpha != nothing && !(alpha in generated_alpha[mip[:x][i+1, j]])\n",
    "                    push!(generated_alpha[mip[:x][i+1, j]], alpha)\n",
    "                    upper_z = generate_zcoef_from_alpha(neuron, alpha, GT(y))\n",
    "                    lower_z = generate_zcoef_from_alpha(neuron, alpha, LT(y))\n",
    "                    @constraint(mip, mip[:x][i+1, j] <= sum(mip[:x][i, k]*alpha[k] for k in 1:n) +\n",
    "                                     sum(mip[:z][i+1, j, k]*upper_z[k] for k in 1:2)) \n",
    "                    @constraint(mip, mip[:x][i+1, j] >= sum(mip[:x][i, k]*alpha[k] for k in 1:n) +\n",
    "                                     sum(mip[:z][i+1, j, k]*lower_z[k] for k in 1:2))\n",
    "                    feasible = false\n",
    "                end\n",
    "            end\n",
    "        end\n",
    "        count += 1\n",
    "    end\n",
    "    return objective_value(mip), value.(mip[:x]), value.(mip[:z])\n",
    "end"
   ]
  },
  {
   "cell_type": "code",
   "execution_count": 22,
   "metadata": {
    "scrolled": true
   },
   "outputs": [
    {
     "ename": "UndefVarError",
     "evalue": "UndefVarError: `neural_net` not defined",
     "output_type": "error",
     "traceback": [
      "UndefVarError: `neural_net` not defined\n",
      "\n",
      "Stacktrace:\n",
      " [1] macro expansion\n",
      "   @ ./timing.jl:279 [inlined]\n",
      " [2] top-level scope\n",
      "   @ ~/OR-Research/LinSepVerify/research_notebooks/Verification Demo.ipynb:1"
     ]
    }
   ],
   "source": [
    "@time opt_val, opt_sol_x, opt_sol_z = verify(neural_net, img, 2, [0.0, 0.0, 0.0, -1.0, 1.0, 0.0, 0.0, 0.0, 0.0, 0.0], 1/8)"
   ]
  },
  {
   "cell_type": "code",
   "execution_count": 273,
   "metadata": {
    "scrolled": true
   },
   "outputs": [
    {
     "name": "stdout",
     "output_type": "stream",
     "text": [
      "Set parameter Username\n",
      "Academic license - for non-commercial use only - expires 2025-01-15\n"
     ]
    },
    {
     "ename": "ErrorException",
     "evalue": "Operation `sub_mul` between `Vector{Vector{Float64}}` and `Float64` is not allowed. You should use broadcast.",
     "output_type": "error",
     "traceback": [
      "Operation `sub_mul` between `Vector{Vector{Float64}}` and `Float64` is not allowed. You should use broadcast.\n",
      "\n",
      "Stacktrace:\n",
      "  [1] error(s::String)\n",
      "    @ Base ./error.jl:35\n",
      "  [2] promote_operation(op::typeof(MutableArithmetics.sub_mul), A::Type{Vector{Vector{Float64}}}, α::Type{Float64})\n",
      "    @ MutableArithmetics ~/.julia/packages/MutableArithmetics/2vhhw/src/interface.jl:127\n",
      "  [3] mutability(::Type, ::Function, ::Type, ::Type)\n",
      "    @ MutableArithmetics ~/.julia/packages/MutableArithmetics/2vhhw/src/interface.jl:273\n",
      "  [4] mutability(::Vector{Vector{Float64}}, ::Function, ::Vector{Vector{Float64}}, ::Float64)\n",
      "    @ MutableArithmetics ~/.julia/packages/MutableArithmetics/2vhhw/src/interface.jl:281\n",
      "  [5] operate!!(op::typeof(MutableArithmetics.sub_mul), x::Vector{Vector{Float64}}, args::Float64)\n",
      "    @ MutableArithmetics ~/.julia/packages/MutableArithmetics/2vhhw/src/rewrite.jl:93\n",
      "  [6] macro expansion\n",
      "    @ ~/.julia/packages/MutableArithmetics/2vhhw/src/rewrite.jl:321 [inlined]\n",
      "  [7] macro expansion\n",
      "    @ ~/.julia/packages/JuMP/kSaGf/src/macros.jl:257 [inlined]\n",
      "  [8] macro expansion\n",
      "    @ ~/.julia/packages/JuMP/kSaGf/src/macros/@constraint.jl:413 [inlined]\n",
      "  [9] macro expansion\n",
      "    @ ~/.julia/packages/JuMP/kSaGf/src/macros.jl:393 [inlined]\n",
      " [10] init_mip_model(neural_net::Vector{Any}, image::Vector{Any}, true_label::Int64, eps::Float64)\n",
      "    @ Main ~/OR-Research/LinSepVerify/Verification Demo.ipynb:9\n",
      " [11] verify(neural_net::Vector{Any}, image::Vector{Any}, true_label::Int64, objective::Vector{Float64}, eps::Float64, max_iter::Int64)\n",
      "    @ Main ~/OR-Research/LinSepVerify/Verification Demo.ipynb:4\n",
      " [12] verify(neural_net::Vector{Any}, image::Vector{Any}, true_label::Int64, objective::Vector{Float64}, eps::Float64)\n",
      "    @ Main ~/OR-Research/LinSepVerify/Verification Demo.ipynb:4\n",
      " [13] top-level scope\n",
      "    @ ./timing.jl:273 [inlined]\n",
      " [14] top-level scope\n",
      "    @ ~/OR-Research/LinSepVerify/Verification Demo.ipynb:0"
     ]
    }
   ],
   "source": [
    "@time opt_val, opt_sol_x, opt_sol_z = verify(neural_net, img, 2, [-1.0, -1.0, -1.0, 10.0, -1.0, -1.0, -1.0, -1.0, -1.0, -1.0], 0.15)"
   ]
  },
  {
   "cell_type": "code",
   "execution_count": 274,
   "metadata": {},
   "outputs": [
    {
     "data": {
      "text/plain": [
       "(Any[-0.16810764372348785 0.0908636599779129 … 0.29462355375289917 0.12655341625213623; 0.10643213987350464 -0.02404194325208664 … 0.14130260050296783 0.011345014907419682; … ; 0.10184700042009354 -0.17890161275863647 … -0.08974038064479828 -0.16659808158874512; -0.19930283725261688 0.09014824777841568 … 0.05094803124666214 -0.11923925578594208], Any[-0.0799298956990242, -0.015273730270564556, 0.05843355506658554, 0.029641706496477127, -0.023213569074869156, 0.03812182694673538, -0.10885021090507507, 0.02888825163245201, 0.006291170138865709, 0.02623017691075802])"
      ]
     },
     "metadata": {},
     "output_type": "display_data"
    }
   ],
   "source": [
    "w1, b1 = neural_net[1]\n",
    "w2, b2 = neural_net[2]\n",
    "w3, b3 = neural_net[3]"
   ]
  },
  {
   "cell_type": "code",
   "execution_count": 275,
   "metadata": {},
   "outputs": [
    {
     "ename": "UndefVarError",
     "evalue": "UndefVarError: `opt_sol_x` not defined",
     "output_type": "error",
     "traceback": [
      "UndefVarError: `opt_sol_x` not defined\n",
      "\n",
      "Stacktrace:\n",
      " [1] (::var\"#449#450\")(i::Int64)\n",
      "   @ Main ./none:0\n",
      " [2] iterate\n",
      "   @ ./generator.jl:47 [inlined]\n",
      " [3] collect(itr::Base.Generator{UnitRange{Int64}, var\"#449#450\"})\n",
      "   @ Base ./array.jl:782\n",
      " [4] top-level scope\n",
      "   @ ~/OR-Research/LinSepVerify/Verification Demo.ipynb:2"
     ]
    }
   ],
   "source": [
    "for j in 1:100\n",
    "    a = w2[1:100, j] ⋅ [opt_sol_x[2, i] for i in 1:100] + b2[j]\n",
    "    if a > 0\n",
    "        if opt_sol_x[3, j] != 1.0\n",
    "            print(a)\n",
    "            print(\"\\n\")\n",
    "        end\n",
    "    elseif a < 0\n",
    "        if opt_sol_x[3, j] != -1.0\n",
    "            print(a)\n",
    "            print(\"\\n\")\n",
    "        end\n",
    "    end\n",
    "end"
   ]
  },
  {
   "cell_type": "code",
   "execution_count": 276,
   "metadata": {},
   "outputs": [
    {
     "ename": "UndefVarError",
     "evalue": "UndefVarError: `opt_sol_x` not defined",
     "output_type": "error",
     "traceback": [
      "UndefVarError: `opt_sol_x` not defined\n",
      "\n",
      "Stacktrace:\n",
      " [1] (::var\"#451#452\")(i::Int64)\n",
      "   @ Main ./none:0\n",
      " [2] iterate\n",
      "   @ ./generator.jl:47 [inlined]\n",
      " [3] collect(itr::Base.Generator{UnitRange{Int64}, var\"#451#452\"})\n",
      "   @ Base ./array.jl:782\n",
      " [4] top-level scope\n",
      "   @ ~/OR-Research/LinSepVerify/Verification Demo.ipynb:2"
     ]
    }
   ],
   "source": [
    "for j in 1:100\n",
    "    a = w1[1:784, j] ⋅ [opt_sol_x[1, i] for i in 1:784] + b1[j]\n",
    "    if a > 0\n",
    "        if opt_sol_x[2, j] != 1.0\n",
    "            print(a)\n",
    "            print(\"\\n\")\n",
    "        end\n",
    "    elseif a < 0\n",
    "        if opt_sol_x[2, j] != -1.0\n",
    "            print(a)\n",
    "            print(\"\\n\")\n",
    "        end\n",
    "    end\n",
    "end"
   ]
  },
  {
   "cell_type": "code",
   "execution_count": 277,
   "metadata": {},
   "outputs": [
    {
     "ename": "UndefVarError",
     "evalue": "UndefVarError: `opt_sol_x` not defined",
     "output_type": "error",
     "traceback": [
      "UndefVarError: `opt_sol_x` not defined\n",
      "\n",
      "Stacktrace:\n",
      " [1] (::var\"#453#454\")(i::Int64)\n",
      "   @ Main ./none:0\n",
      " [2] iterate\n",
      "   @ ./generator.jl:47 [inlined]\n",
      " [3] collect(itr::Base.Generator{UnitRange{Int64}, var\"#453#454\"})\n",
      "   @ Base ./array.jl:782\n",
      " [4] top-level scope\n",
      "   @ ~/OR-Research/LinSepVerify/Verification Demo.ipynb:1"
     ]
    }
   ],
   "source": [
    "ret_img = [opt_sol_x[1, i] for i in 1:784]\n",
    "ret_img = reshape(ret_img, (28, 28))"
   ]
  },
  {
   "cell_type": "code",
   "execution_count": 278,
   "metadata": {},
   "outputs": [
    {
     "ename": "UndefVarError",
     "evalue": "UndefVarError: `ret_img` not defined",
     "output_type": "error",
     "traceback": [
      "UndefVarError: `ret_img` not defined\n",
      "\n",
      "Stacktrace:\n",
      " [1] top-level scope\n",
      "   @ ~/OR-Research/LinSepVerify/Verification Demo.ipynb:1"
     ]
    }
   ],
   "source": [
    "heatmap(-ret_img', color = :greys)"
   ]
  },
  {
   "cell_type": "code",
   "execution_count": 279,
   "metadata": {},
   "outputs": [
    {
     "ename": "DimensionMismatch",
     "evalue": "DimensionMismatch: new dimensions (28, 28) must be consistent with array size 150",
     "output_type": "error",
     "traceback": [
      "DimensionMismatch: new dimensions (28, 28) must be consistent with array size 150\n",
      "\n",
      "Stacktrace:\n",
      " [1] (::Base.var\"#throw_dmrsa#318\")(dims::Tuple{Int64, Int64}, len::Int64)\n",
      "   @ Base ./reshapedarray.jl:41\n",
      " [2] reshape\n",
      "   @ ./reshapedarray.jl:45 [inlined]\n",
      " [3] reshape(::Vector{Vector{Vector{Float64}}}, ::Int64, ::Int64)\n",
      "   @ Base ./reshapedarray.jl:117\n",
      " [4] top-level scope\n",
      "   @ ~/OR-Research/LinSepVerify/Verification Demo.ipynb:1"
     ]
    }
   ],
   "source": [
    "heatmap(reshape(-img, 28, 28)', color = :grays)"
   ]
  },
  {
   "cell_type": "code",
   "execution_count": 280,
   "metadata": {},
   "outputs": [
    {
     "ename": "UndefVarError",
     "evalue": "UndefVarError: `ret_img` not defined",
     "output_type": "error",
     "traceback": [
      "UndefVarError: `ret_img` not defined\n",
      "\n",
      "Stacktrace:\n",
      " [1] top-level scope\n",
      "   @ ~/OR-Research/LinSepVerify/Verification Demo.ipynb:1"
     ]
    }
   ],
   "source": [
    "diff = ret_img - reshape(img, 28, 28)"
   ]
  },
  {
   "cell_type": "code",
   "execution_count": 281,
   "metadata": {},
   "outputs": [
    {
     "ename": "MethodError",
     "evalue": "MethodError: no method matching adjoint(::typeof(diff))\n\nClosest candidates are:\n  adjoint(!Matched::Union{QR, LinearAlgebra.QRCompactWY, QRPivoted})\n   @ LinearAlgebra /opt/homebrew/Cellar/julia/1.9.4/share/julia/stdlib/v1.9/LinearAlgebra/src/qr.jl:517\n  adjoint(!Matched::Union{Cholesky, CholeskyPivoted})\n   @ LinearAlgebra /opt/homebrew/Cellar/julia/1.9.4/share/julia/stdlib/v1.9/LinearAlgebra/src/cholesky.jl:556\n  adjoint(!Matched::Union{MathOptInterface.VariableIndex, MathOptInterface.ScalarAffineFunction{T}, MathOptInterface.ScalarQuadraticFunction{T}} where T)\n   @ MathOptInterface ~/.julia/packages/MathOptInterface/nEHaN/src/Utilities/functions.jl:1836\n  ...\n",
     "output_type": "error",
     "traceback": [
      "MethodError: no method matching adjoint(::typeof(diff))\n",
      "\n",
      "Closest candidates are:\n",
      "  adjoint(!Matched::Union{QR, LinearAlgebra.QRCompactWY, QRPivoted})\n",
      "   @ LinearAlgebra /opt/homebrew/Cellar/julia/1.9.4/share/julia/stdlib/v1.9/LinearAlgebra/src/qr.jl:517\n",
      "  adjoint(!Matched::Union{Cholesky, CholeskyPivoted})\n",
      "   @ LinearAlgebra /opt/homebrew/Cellar/julia/1.9.4/share/julia/stdlib/v1.9/LinearAlgebra/src/cholesky.jl:556\n",
      "  adjoint(!Matched::Union{MathOptInterface.VariableIndex, MathOptInterface.ScalarAffineFunction{T}, MathOptInterface.ScalarQuadraticFunction{T}} where T)\n",
      "   @ MathOptInterface ~/.julia/packages/MathOptInterface/nEHaN/src/Utilities/functions.jl:1836\n",
      "  ...\n",
      "\n",
      "\n",
      "Stacktrace:\n",
      " [1] top-level scope\n",
      "   @ ~/OR-Research/LinSepVerify/Verification Demo.ipynb:1"
     ]
    }
   ],
   "source": [
    "heatmap(-diff', color = :greys)"
   ]
  },
  {
   "cell_type": "code",
   "execution_count": 282,
   "metadata": {},
   "outputs": [
    {
     "ename": "UndefVarError",
     "evalue": "UndefVarError: `opt_sol_z` not defined",
     "output_type": "error",
     "traceback": [
      "UndefVarError: `opt_sol_z` not defined\n",
      "\n",
      "Stacktrace:\n",
      " [1] top-level scope\n",
      "   @ ~/OR-Research/LinSepVerify/Verification Demo.ipynb:2"
     ]
    }
   ],
   "source": [
    "count = 0\n",
    "for val in opt_sol_z\n",
    "    if val > eps() && val < 1.0 - eps()\n",
    "        count += 1\n",
    "    end\n",
    "end\n",
    "print(count)"
   ]
  },
  {
   "cell_type": "code",
   "execution_count": 283,
   "metadata": {},
   "outputs": [],
   "source": []
  },
  {
   "cell_type": "code",
   "execution_count": 284,
   "metadata": {},
   "outputs": [
    {
     "ename": "UndefVarError",
     "evalue": "UndefVarError: `opt_val` not defined",
     "output_type": "error",
     "traceback": [
      "UndefVarError: `opt_val` not defined\n"
     ]
    }
   ],
   "source": [
    "opt_val"
   ]
  },
  {
   "cell_type": "code",
   "execution_count": 285,
   "metadata": {},
   "outputs": [
    {
     "ename": "MethodError",
     "evalue": "MethodError: no method matching verify(::Vector{Tuple{AbstractMatrix, AbstractArray}}, ::Vector{Int64}, ::Int64)\n\nClosest candidates are:\n  verify(::Any, ::Any, ::Any, !Matched::Any)\n   @ Main ~/OR-Research/LinSepVerify/Verification Demo.ipynb:2\n  verify(::Any, ::Any, ::Any, !Matched::Any, !Matched::Any)\n   @ Main ~/OR-Research/LinSepVerify/Verification Demo.ipynb:2\n  verify(::Any, ::Any, ::Any, !Matched::Any, !Matched::Any, !Matched::Any)\n   @ Main ~/OR-Research/LinSepVerify/Verification Demo.ipynb:2\n",
     "output_type": "error",
     "traceback": [
      "MethodError: no method matching verify(::Vector{Tuple{AbstractMatrix, AbstractArray}}, ::Vector{Int64}, ::Int64)\n",
      "\n",
      "Closest candidates are:\n",
      "  verify(::Any, ::Any, ::Any, !Matched::Any)\n",
      "   @ Main ~/OR-Research/LinSepVerify/Verification Demo.ipynb:2\n",
      "  verify(::Any, ::Any, ::Any, !Matched::Any, !Matched::Any)\n",
      "   @ Main ~/OR-Research/LinSepVerify/Verification Demo.ipynb:2\n",
      "  verify(::Any, ::Any, ::Any, !Matched::Any, !Matched::Any, !Matched::Any)\n",
      "   @ Main ~/OR-Research/LinSepVerify/Verification Demo.ipynb:2\n",
      "\n",
      "\n",
      "Stacktrace:\n",
      " [1] top-level scope\n",
      "   @ ~/OR-Research/LinSepVerify/Verification Demo.ipynb:6"
     ]
    }
   ],
   "source": [
    "w1 = [0.25 -0.75; 0.5 0.5]\n",
    "b1 = [-0.3; 0.6]\n",
    "w2 = [1 1]'\n",
    "b2 = [0 0]'\n",
    "test_nn = [(w1, b1), (w2, b2)]\n",
    "verify(test_nn, [1], 6)"
   ]
  },
  {
   "cell_type": "code",
   "execution_count": 286,
   "metadata": {},
   "outputs": [
    {
     "ename": "MethodError",
     "evalue": "MethodError: no method matching init_mip_model(::Vector{Tuple{AbstractMatrix, AbstractArray}})\n\nClosest candidates are:\n  init_mip_model(::Any, !Matched::Any, !Matched::Any)\n   @ Main ~/OR-Research/LinSepVerify/Verification Demo.ipynb:1\n  init_mip_model(::Any, !Matched::Any, !Matched::Any, !Matched::Any)\n   @ Main ~/OR-Research/LinSepVerify/Verification Demo.ipynb:1\n",
     "output_type": "error",
     "traceback": [
      "MethodError: no method matching init_mip_model(::Vector{Tuple{AbstractMatrix, AbstractArray}})\n",
      "\n",
      "Closest candidates are:\n",
      "  init_mip_model(::Any, !Matched::Any, !Matched::Any)\n",
      "   @ Main ~/OR-Research/LinSepVerify/Verification Demo.ipynb:1\n",
      "  init_mip_model(::Any, !Matched::Any, !Matched::Any, !Matched::Any)\n",
      "   @ Main ~/OR-Research/LinSepVerify/Verification Demo.ipynb:1\n",
      "\n",
      "\n",
      "Stacktrace:\n",
      " [1] top-level scope\n",
      "   @ ~/OR-Research/LinSepVerify/Verification Demo.ipynb:1"
     ]
    }
   ],
   "source": [
    "model, dict = init_mip_model(test_nn)"
   ]
  },
  {
   "cell_type": "code",
   "execution_count": 287,
   "metadata": {},
   "outputs": [
    {
     "ename": "MethodError",
     "evalue": "MethodError: no method matching verify(::Vector{Tuple{Adjoint, Vector}}, ::Vector{Int64}, ::Int64)\n\nClosest candidates are:\n  verify(::Any, ::Any, ::Any, !Matched::Any)\n   @ Main ~/OR-Research/LinSepVerify/Verification Demo.ipynb:2\n  verify(::Any, ::Any, ::Any, !Matched::Any, !Matched::Any)\n   @ Main ~/OR-Research/LinSepVerify/Verification Demo.ipynb:2\n  verify(::Any, ::Any, ::Any, !Matched::Any, !Matched::Any, !Matched::Any)\n   @ Main ~/OR-Research/LinSepVerify/Verification Demo.ipynb:2\n",
     "output_type": "error",
     "traceback": [
      "MethodError: no method matching verify(::Vector{Tuple{Adjoint, Vector}}, ::Vector{Int64}, ::Int64)\n",
      "\n",
      "Closest candidates are:\n",
      "  verify(::Any, ::Any, ::Any, !Matched::Any)\n",
      "   @ Main ~/OR-Research/LinSepVerify/Verification Demo.ipynb:2\n",
      "  verify(::Any, ::Any, ::Any, !Matched::Any, !Matched::Any)\n",
      "   @ Main ~/OR-Research/LinSepVerify/Verification Demo.ipynb:2\n",
      "  verify(::Any, ::Any, ::Any, !Matched::Any, !Matched::Any, !Matched::Any)\n",
      "   @ Main ~/OR-Research/LinSepVerify/Verification Demo.ipynb:2\n",
      "\n",
      "\n",
      "Stacktrace:\n",
      " [1] top-level scope\n",
      "   @ ~/OR-Research/LinSepVerify/Verification Demo.ipynb:6"
     ]
    }
   ],
   "source": [
    "w1 = [0.25 -0.75]'\n",
    "b1 = [0.5]\n",
    "w2 = [1]'\n",
    "b2 = [0]\n",
    "test_nn = [(w1, b1), (w2, b2)]\n",
    "verify(test_nn, [1], 3)"
   ]
  },
  {
   "cell_type": "code",
   "execution_count": 288,
   "metadata": {},
   "outputs": [
    {
     "name": "stdout",
     "output_type": "stream",
     "text": [
      "Set parameter Username\n",
      "Academic license - for non-commercial use only - expires 2025-01-15\n"
     ]
    },
    {
     "data": {
      "text/plain": [
       "A JuMP Model\n",
       "Feasibility problem with:\n",
       "Variables: 0\n",
       "Model mode: AUTOMATIC\n",
       "CachingOptimizer state: EMPTY_OPTIMIZER\n",
       "Solver name: Gurobi"
      ]
     },
     "metadata": {},
     "output_type": "display_data"
    }
   ],
   "source": [
    "model = Model(Gurobi.Optimizer)"
   ]
  },
  {
   "cell_type": "code",
   "execution_count": 289,
   "metadata": {},
   "outputs": [
    {
     "data": {
      "text/latex": [
       "$$ x + y \\leq 1 $$"
      ],
      "text/plain": [
       "x + y ≤ 1"
      ]
     },
     "metadata": {},
     "output_type": "display_data"
    }
   ],
   "source": [
    "@variable(model, x)\n",
    "@variable(model, y)\n",
    "@constraint(model, x + y <= 1)"
   ]
  },
  {
   "cell_type": "code",
   "execution_count": 290,
   "metadata": {},
   "outputs": [
    {
     "data": {
      "text/plain": [
       "A JuMP Model\n",
       "Feasibility problem with:\n",
       "Variables: 2\n",
       "`AffExpr`-in-`MathOptInterface.LessThan{Float64}`: 1 constraint\n",
       "Model mode: AUTOMATIC\n",
       "CachingOptimizer state: EMPTY_OPTIMIZER\n",
       "Solver name: Gurobi\n",
       "Names registered in the model: x, y"
      ]
     },
     "metadata": {},
     "output_type": "display_data"
    }
   ],
   "source": [
    "model"
   ]
  },
  {
   "cell_type": "code",
   "execution_count": 291,
   "metadata": {},
   "outputs": [
    {
     "data": {
      "text/latex": [
       "$$ x + y \\leq 1 $$"
      ],
      "text/plain": [
       "x + y ≤ 1"
      ]
     },
     "metadata": {},
     "output_type": "display_data"
    }
   ],
   "source": [
    "@constraint(model, x + y <= 1)"
   ]
  },
  {
   "cell_type": "code",
   "execution_count": 292,
   "metadata": {},
   "outputs": [
    {
     "data": {
      "text/plain": [
       "A JuMP Model\n",
       "Feasibility problem with:\n",
       "Variables: 2\n",
       "`AffExpr`-in-`MathOptInterface.LessThan{Float64}`: 2 constraints\n",
       "Model mode: AUTOMATIC\n",
       "CachingOptimizer state: EMPTY_OPTIMIZER\n",
       "Solver name: Gurobi\n",
       "Names registered in the model: x, y"
      ]
     },
     "metadata": {},
     "output_type": "display_data"
    }
   ],
   "source": [
    "model"
   ]
  },
  {
   "cell_type": "code",
   "execution_count": 293,
   "metadata": {},
   "outputs": [],
   "source": []
  },
  {
   "cell_type": "markdown",
   "metadata": {},
   "source": [
    "# Tests"
   ]
  },
  {
   "cell_type": "code",
   "execution_count": 294,
   "metadata": {},
   "outputs": [
    {
     "data": {
      "text/plain": [
       "StaircaseFunction([-1.0, 0.0, 1.0], [0.0, 0.0], [-1.0, 1.0], 0.0)"
      ]
     },
     "metadata": {},
     "output_type": "display_data"
    }
   ],
   "source": [
    "f = StaircaseFunction([-1.0, 0.0, 1.0], [0.0, 0.0], [-1.0, 1.0])"
   ]
  },
  {
   "cell_type": "code",
   "execution_count": 295,
   "metadata": {},
   "outputs": [
    {
     "data": {
      "text/plain": [
       "Neuron{StaircaseFunction}([1.0, 1.0], 0.0, StaircaseFunction([-1.0, 0.0, 1.0], [0.0, 0.0], [-1.0, 1.0], 0.0), BoxDomain([-0.5, -0.5], [0.5, 0.5]), [1.0, 1.0], [[1.0, 2.0], [0.0, 1.0], [-1.0, 0.0]], [[1.0, 2.0], [0.0, 1.0], [-1.0, 0.0]])"
      ]
     },
     "metadata": {},
     "output_type": "display_data"
    }
   ],
   "source": [
    "nr = Neuron([1.0, 1.0], 0.0, f, BoxDomain([-0.5, -0.5], [0.5, 0.5]))"
   ]
  },
  {
   "cell_type": "code",
   "execution_count": 296,
   "metadata": {},
   "outputs": [
    {
     "data": {
      "text/plain": [
       "([1.0, 1.0], [0.0, 1.0], [-1.0, 0.0])"
      ]
     },
     "metadata": {},
     "output_type": "display_data"
    }
   ],
   "source": [
    "x = [-0.25, -0.35]\n",
    "y = 1.0\n",
    "z = [0.0, 1.0]\n",
    "#alpha = generate_alpha(nr, x, y, z) # 1 1\n",
    "z_coef = separate(nr, x, y, z)"
   ]
  },
  {
   "cell_type": "code",
   "execution_count": 297,
   "metadata": {},
   "outputs": [],
   "source": [
    "x = [-0.25, -0.35]\n",
    "y = 1.0\n",
    "z = [0.6, 0.4]\n",
    "alpha = generate_alpha(nr, x, y, z) #feasible"
   ]
  },
  {
   "cell_type": "code",
   "execution_count": 298,
   "metadata": {},
   "outputs": [
    {
     "data": {
      "text/plain": [
       "Neuron{StaircaseFunction}([1.0, -1.0], 0.0, StaircaseFunction([-1.0, 0.0, 1.0], [0.0, 0.0], [-1.0, 1.0], 0.0), BoxDomain([-0.5, -0.5], [0.5, 0.5]), [1.0, 1.0], [[1.0, 2.0], [0.0, 1.0], [-1.0, 0.0]], [[1.0, 2.0], [0.0, 1.0], [-1.0, 0.0]])"
      ]
     },
     "metadata": {},
     "output_type": "display_data"
    }
   ],
   "source": [
    "nr = Neuron([1.0, -1.0], 0.0, f, BoxDomain([-0.5, -0.5], [0.5, 0.5]))"
   ]
  },
  {
   "cell_type": "code",
   "execution_count": 299,
   "metadata": {},
   "outputs": [
    {
     "data": {
      "text/plain": [
       "2-element Vector{Float64}:\n",
       "  1.0\n",
       " -1.0"
      ]
     },
     "metadata": {},
     "output_type": "display_data"
    }
   ],
   "source": [
    "x = [0.25, 0.35]\n",
    "y = 1.0\n",
    "z = [0.0, 1.0]\n",
    "alpha = generate_alpha(nr, x, y, z) # 1 1"
   ]
  },
  {
   "cell_type": "code",
   "execution_count": 300,
   "metadata": {},
   "outputs": [],
   "source": [
    "x = [0.35, -0.35]\n",
    "y = 1.0\n",
    "z = [0.0, 1.0]\n",
    "alpha = generate_alpha(nr, x, y, z) # 1 1"
   ]
  },
  {
   "cell_type": "code",
   "execution_count": 301,
   "metadata": {},
   "outputs": [
    {
     "data": {
      "text/plain": [
       "3-element Vector{Float64}:\n",
       " -1.0\n",
       "  1.0\n",
       "  2.0"
      ]
     },
     "metadata": {},
     "output_type": "display_data"
    }
   ],
   "source": [
    "c = [2.0]\n",
    "box = BoxDomain([-1.0], [1.0])\n",
    "w = [1.0]\n",
    "h = [-1.0, -0.5, 0.5, 1.0]\n",
    "solve_knapsackseries(c, box, w, h)"
   ]
  },
  {
   "cell_type": "code",
   "execution_count": 302,
   "metadata": {},
   "outputs": [
    {
     "data": {
      "text/plain": [
       "3-element Vector{Float64}:\n",
       "  1.0\n",
       "  0.5\n",
       " -0.5"
      ]
     },
     "metadata": {},
     "output_type": "display_data"
    }
   ],
   "source": [
    "c = [-1.0]\n",
    "box = BoxDomain([-1.0], [1.0])\n",
    "w = [1.0]\n",
    "h = [-1.0, -0.5, 0.5, 1.0]\n",
    "solve_knapsackseries(c, box, w, h)"
   ]
  },
  {
   "cell_type": "code",
   "execution_count": 303,
   "metadata": {},
   "outputs": [
    {
     "data": {
      "text/plain": [
       "3-element Vector{Float64}:\n",
       " 4.5\n",
       " 2.5\n",
       " 0.25"
      ]
     },
     "metadata": {},
     "output_type": "display_data"
    }
   ],
   "source": [
    "c = [-1.0, 2.5]\n",
    "box = BoxDomain([-2.0, -2.0], [1.0, 1.0])\n",
    "w = [0.5, -1.0]\n",
    "h = [-2.0, -1.0, 0.0, 2.5]\n",
    "solve_knapsackseries(c, box, w, h)"
   ]
  },
  {
   "cell_type": "code",
   "execution_count": 304,
   "metadata": {},
   "outputs": [
    {
     "data": {
      "text/plain": [
       "3-element Vector{Float64}:\n",
       " 4.0\n",
       " 4.0\n",
       " 2.3333333333333335"
      ]
     },
     "metadata": {},
     "output_type": "display_data"
    }
   ],
   "source": [
    "c = [1.5, 2.5]\n",
    "box = BoxDomain([-2.0, -2.0], [1.0, 1.0])\n",
    "w = [0.5, -1.5]\n",
    "h = [-2.5, -1.0, 0.0, 3.5]\n",
    "solve_knapsackseries(c, box, w, h)"
   ]
  },
  {
   "cell_type": "code",
   "execution_count": 305,
   "metadata": {},
   "outputs": [
    {
     "data": {
      "text/plain": [
       "4-element Vector{Float64}:\n",
       " -1.5\n",
       "  1.5\n",
       "  1.5\n",
       "  1.5"
      ]
     },
     "metadata": {},
     "output_type": "display_data"
    }
   ],
   "source": [
    "c = [1.5, 0.0]\n",
    "box = BoxDomain([-2.0, -2.0], [1.0, 1.0])\n",
    "w = [0.5, -1.5]\n",
    "h = [-2.5, -2.0, -1.0, 0.0, 3.5]\n",
    "solve_knapsackseries(c, box, w, h)"
   ]
  },
  {
   "cell_type": "code",
   "execution_count": 306,
   "metadata": {},
   "outputs": [
    {
     "data": {
      "text/plain": [
       "4-element Vector{Float64}:\n",
       " -1.5\n",
       " -0.75\n",
       "  0.0\n",
       "  1.5"
      ]
     },
     "metadata": {},
     "output_type": "display_data"
    }
   ],
   "source": [
    "c = [1.5, 0.0]\n",
    "box = BoxDomain([-2.0, -2.0], [1.0, 1.0])\n",
    "w = [0.5, 0.0]\n",
    "h = [-1.0, -0.5, -0.25, 0.0, 1.0]\n",
    "solve_knapsackseries(c, box, w, h)"
   ]
  },
  {
   "cell_type": "code",
   "execution_count": 307,
   "metadata": {},
   "outputs": [
    {
     "data": {
      "text/plain": [
       "4-element Vector{Float64}:\n",
       " 1.5\n",
       " 1.5\n",
       " 1.5\n",
       " 1.5"
      ]
     },
     "metadata": {},
     "output_type": "display_data"
    }
   ],
   "source": [
    "c = [1.5, 0.0]\n",
    "box = BoxDomain([-2.0, -2.0], [1.0, 1.0])\n",
    "w = [0.0, 0.5]\n",
    "h = [-1.0, -0.5, -0.25, 0.0, 1.0]\n",
    "solve_knapsackseries(c, box, w, h)"
   ]
  },
  {
   "cell_type": "code",
   "execution_count": 308,
   "metadata": {},
   "outputs": [
    {
     "data": {
      "text/plain": [
       "2-element Vector{Float64}:\n",
       " 0.0\n",
       " 0.0"
      ]
     },
     "metadata": {},
     "output_type": "display_data"
    }
   ],
   "source": [
    "f = StaircaseFunction([-1.0, 0.0, 1.0], [0.0, 1.0], [0.0, 0.0])\n",
    "nr = Neuron([1.0, 1.0], 0.0, f, BoxDomain([-0.5, -0.5], [0.5, 0.5]))\n",
    "generate_zcoef_from_alpha(nr, [0.0, 0.0], LT(0))"
   ]
  },
  {
   "cell_type": "code",
   "execution_count": 309,
   "metadata": {},
   "outputs": [
    {
     "data": {
      "text/plain": [
       "2-element Vector{Float64}:\n",
       " 0.0\n",
       " 1.0"
      ]
     },
     "metadata": {},
     "output_type": "display_data"
    }
   ],
   "source": [
    "generate_zcoef_from_alpha(nr, [0.0, 0.0], GT(1))"
   ]
  },
  {
   "cell_type": "code",
   "execution_count": 310,
   "metadata": {},
   "outputs": [
    {
     "data": {
      "text/plain": [
       "2-element Vector{Float64}:\n",
       " 0.5\n",
       " 0.5"
      ]
     },
     "metadata": {},
     "output_type": "display_data"
    }
   ],
   "source": [
    "generate_zcoef_from_alpha(nr, [1.0, 0.0], GT(1))"
   ]
  },
  {
   "cell_type": "code",
   "execution_count": 311,
   "metadata": {},
   "outputs": [
    {
     "data": {
      "text/plain": [
       "2-element Vector{Float64}:\n",
       " -0.5\n",
       " -0.5"
      ]
     },
     "metadata": {},
     "output_type": "display_data"
    }
   ],
   "source": [
    "generate_zcoef_from_alpha(nr, [1.0, 0.0], LT(1))"
   ]
  },
  {
   "cell_type": "code",
   "execution_count": 312,
   "metadata": {},
   "outputs": [
    {
     "data": {
      "text/plain": [
       "2-element Vector{Float64}:\n",
       " 0.5\n",
       " 0.5"
      ]
     },
     "metadata": {},
     "output_type": "display_data"
    }
   ],
   "source": [
    "generate_zcoef_from_alpha(nr, [0.5, 0.5], GT(1))"
   ]
  },
  {
   "cell_type": "code",
   "execution_count": 313,
   "metadata": {},
   "outputs": [
    {
     "data": {
      "text/plain": [
       "2-element Vector{Float64}:\n",
       " 0.25\n",
       " 0.75"
      ]
     },
     "metadata": {},
     "output_type": "display_data"
    }
   ],
   "source": [
    "generate_zcoef_from_alpha(nr, [0.0, 0.5], GT(1))"
   ]
  },
  {
   "cell_type": "code",
   "execution_count": 314,
   "metadata": {},
   "outputs": [
    {
     "name": "stdout",
     "output_type": "stream",
     "text": [
      "  0.000111 seconds (15 allocations: 74.953 KiB)\n"
     ]
    },
    {
     "data": {
      "text/plain": [
       "(-0.44572934032072675, 800, [1, 5, 8, 14, 15, 16, 23, 25, 27, 29  …  777, 779, 782, 783, 784, 785, 794, 795, 798, 799])"
      ]
     },
     "metadata": {},
     "output_type": "display_data"
    }
   ],
   "source": [
    "n = 800\n",
    "k = 10\n",
    "w = 2*(rand(Float64, n).-0.5)\n",
    "u = ones(n)/n\n",
    "l = -ones(n)/n\n",
    "U = sum([w[i]*u[i] for i in 1:n if w[i] > 0]) + sum([w[i]*l[i] for i in 1:n if w[i] < 0])\n",
    "L = sum([w[i]*u[i] for i in 1:n if w[i] < 0]) + sum([w[i]*l[i] for i in 1:n if w[i] > 0])\n",
    "h = [L + (U-L)/k*(i-1) for i in 1:n+1]\n",
    "h = h .- sum([w[i]*u[i] for i in 1:n if w[i] > 0]) .+ sum([w[i]*l[i] for i in 1:n if w[i] < 0])\n",
    "Δ = [(u[i]-l[i])*abs(w[i]) for i in 1:n]\n",
    "H = [h .+ sum(Δ[i:n]) for i in 1:n+1]\n",
    "\n",
    "#x = (rand(Float64, n) .- 0.5)*2/n\n",
    "#x = [w[j] > 0 ? u[j]*w[j] - x[j]*w[j] : l[j]*w[j] - x[j]*w[j] for j in 1:n]\n",
    "x = [w[i] > 0 ? u[i] : l[i] for  i in 1:n]\n",
    "x = [w[j] > 0 ? (u[j]-x[j])*w[j] : (l[j]-x[j])*w[j] for j in 1:n]\n",
    "#z = rand(Float64, k)\n",
    "#z = z/sum(z)\n",
    "z = zeros(k)\n",
    "z[1] = 0.5\n",
    "z[2] = 0.5\n",
    "\n",
    "@time sol, val = optimal_ψ(x, z, Δ, H)"
   ]
  },
  {
   "cell_type": "code",
   "execution_count": 315,
   "metadata": {},
   "outputs": [
    {
     "name": "stdout",
     "output_type": "stream",
     "text": [
      "  0.000009 seconds (13 allocations: 1.312 KiB)\n"
     ]
    },
    {
     "data": {
      "text/plain": [
       "(-0.3, 0, [1, 2])"
      ]
     },
     "metadata": {},
     "output_type": "display_data"
    }
   ],
   "source": [
    "x = [0.3, 0.6]\n",
    "z = [0.5, 0.5]\n",
    "Δ = [1.0, 1.0]\n",
    "h = [-3.0, -2.0]\n",
    "H = [h .+ sum(Δ[i:2]) for i in 1:3]\n",
    "\n",
    "@time sol= optimal_ψ(x, z, Δ, H)"
   ]
  },
  {
   "cell_type": "code",
   "execution_count": 316,
   "metadata": {},
   "outputs": [
    {
     "name": "stdout",
     "output_type": "stream",
     "text": [
      "  0.000007 seconds (13 allocations: 1.312 KiB)\n"
     ]
    },
    {
     "data": {
      "text/plain": [
       "(-0.2, 1, [1, 2])"
      ]
     },
     "metadata": {},
     "output_type": "display_data"
    }
   ],
   "source": [
    "x = [0.3, 0.6]\n",
    "z = [0.5, 0.5]\n",
    "Δ = [1.0, 1.0]\n",
    "h = [-2.0, -1.0]\n",
    "H = [h .+ sum(Δ[i:2]) for i in 1:3]\n",
    "\n",
    "@time sol = optimal_ψ(x, z, Δ, H)"
   ]
  },
  {
   "cell_type": "code",
   "execution_count": 317,
   "metadata": {},
   "outputs": [
    {
     "name": "stdout",
     "output_type": "stream",
     "text": [
      "  0.000007 seconds (13 allocations: 1.312 KiB)\n"
     ]
    },
    {
     "data": {
      "text/plain": [
       "(-1.2, 2, [1, 2])"
      ]
     },
     "metadata": {},
     "output_type": "display_data"
    }
   ],
   "source": [
    "x = [0.3, 0.6]\n",
    "z = [0.1, 0.9]\n",
    "Δ = [2.0, 2.0]\n",
    "h = [-3.0, -2.0]\n",
    "H = [h .+ sum(Δ[i:2]) for i in 1:3]\n",
    "\n",
    "@time sol = optimal_ψ(x, z, Δ, H)"
   ]
  },
  {
   "cell_type": "code",
   "execution_count": 318,
   "metadata": {},
   "outputs": [
    {
     "name": "stdout",
     "output_type": "stream",
     "text": [
      "  0.000007 seconds (13 allocations: 1.312 KiB)\n"
     ]
    },
    {
     "data": {
      "text/plain": [
       "(1.375, 3, [1, 2, 3])"
      ]
     },
     "metadata": {},
     "output_type": "display_data"
    }
   ],
   "source": [
    "x = [0.25, 0.5, 0.75]\n",
    "z = [1/3, 1/3, 1/3]\n",
    "Δ = [1.0, 1.0, 1.0]\n",
    "h = [-0.5, 0.0, 0.5]\n",
    "H = [h .+ sum(Δ[i:3]) for i in 1:4]\n",
    "\n",
    "@time sol = optimal_ψ(x, z, Δ, H)"
   ]
  },
  {
   "cell_type": "code",
   "execution_count": 319,
   "metadata": {},
   "outputs": [
    {
     "data": {
      "text/plain": [
       "(1.375, 3, [1, 2, 3])"
      ]
     },
     "metadata": {},
     "output_type": "display_data"
    }
   ],
   "source": [
    "sol"
   ]
  },
  {
   "cell_type": "code",
   "execution_count": 320,
   "metadata": {},
   "outputs": [
    {
     "data": {
      "text/plain": [
       "6-element Vector{Int64}:\n",
       " 1\n",
       " 2\n",
       " 3\n",
       " 4\n",
       " 5\n",
       " 6"
      ]
     },
     "metadata": {},
     "output_type": "display_data"
    }
   ],
   "source": [
    "a = [1, 2, 3, 4, 5, 6]"
   ]
  },
  {
   "cell_type": "code",
   "execution_count": 321,
   "metadata": {},
   "outputs": [
    {
     "data": {
      "text/plain": [
       "1"
      ]
     },
     "metadata": {},
     "output_type": "display_data"
    }
   ],
   "source": [
    "searchsortedlast(a, 1)"
   ]
  },
  {
   "cell_type": "code",
   "execution_count": 322,
   "metadata": {},
   "outputs": [
    {
     "data": {
      "text/plain": [
       "6-element Vector{Int64}:\n",
       " 1\n",
       " 2\n",
       " 3\n",
       " 4\n",
       " 5\n",
       " 6"
      ]
     },
     "metadata": {},
     "output_type": "display_data"
    }
   ],
   "source": [
    "a"
   ]
  },
  {
   "cell_type": "code",
   "execution_count": 323,
   "metadata": {},
   "outputs": [],
   "source": []
  }
 ],
 "metadata": {
  "kernelspec": {
   "display_name": "Julia 1.10.2",
   "language": "julia",
   "name": "julia-1.10"
  },
  "language_info": {
   "file_extension": ".jl",
   "mimetype": "application/julia",
   "name": "julia",
   "version": "1.10.2"
  }
 },
 "nbformat": 4,
 "nbformat_minor": 4
}
