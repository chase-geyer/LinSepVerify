{
 "cells": [
  {
   "cell_type": "code",
   "execution_count": 1,
   "metadata": {},
   "outputs": [
    {
     "data": {
      "text/plain": [
       "reshape (generic function with 1 method)"
      ]
     },
     "metadata": {},
     "output_type": "display_data"
    }
   ],
   "source": [
    "using TimerOutputs\n",
    "using GLMakie\n",
    "\n",
    "include(\"CayleyVerify.jl\")\n",
    "include(\"DeepPoly.jl\")\n",
    "\n",
    "function dorefa_to_staircase(k::Int)\n",
    "    n = 2^k - 1\n",
    "    slopes = zeros(n+1)\n",
    "    breakpoints = fill(-Inf, n+2)\n",
    "    for i in 1:n\n",
    "        breakpoints[i+1] = (2*i-1)/n - 1\n",
    "    end\n",
    "    breakpoints[end] = Inf\n",
    "    \n",
    "    constant_terms = fill(-1.0, n+1)\n",
    "    for i in 1:n\n",
    "        constant_terms[i+1] = -1.0 + 2*i/n\n",
    "    end\n",
    "    return StaircaseFunction(breakpoints, slopes, constant_terms)\n",
    "end\n",
    "\n",
    "function predict(neural_net, img)\n",
    "    num_layers = length(neural_net.weights)\n",
    "    a = img'\n",
    "    for i in 1:num_layers\n",
    "        a = a * neural_net.weights[i] + neural_net.biases[i]'\n",
    "        if i <= num_layers -1\n",
    "            a = [eval(neural_net.activation[i], a[j]) for j in 1:length(a)]'\n",
    "        end\n",
    "    end\n",
    "    output = a'\n",
    "    return findmax(output)[2]\n",
    "end\n",
    "function reshape(img_array)\n",
    "    n = Int(sqrt(length(img_array)))\n",
    "    return Base.reshape(img_array, (n, n))\n",
    "end"
   ]
  },
  {
   "cell_type": "code",
   "execution_count": 2,
   "metadata": {},
   "outputs": [
    {
     "data": {
      "text/plain": [
       "read_model (generic function with 1 method)"
      ]
     },
     "metadata": {},
     "output_type": "display_data"
    }
   ],
   "source": [
    "using Pickle\n",
    "using Suppressor\n",
    "using Printf\n",
    "function read_model(model_path, f)\n",
    "    net_from_pickle = Pickle.load(open(model_path))\n",
    "    activation = [f, f]\n",
    "    neural_net = NeuralNetwork(net_from_pickle, activation)\n",
    "    return neural_net, imgs, labels\n",
    "end\n"
   ]
  },
  {
   "cell_type": "code",
   "execution_count": 3,
   "metadata": {},
   "outputs": [
    {
     "name": "stdout",
     "output_type": "stream",
     "text": [
      "images loaded\n"
     ]
    },
    {
     "data": {
      "text/plain": [
       "43"
      ]
     },
     "metadata": {},
     "output_type": "display_data"
    }
   ],
   "source": [
    "#println(\"model loaded\")\n",
    "raw_imgs = Pickle.load(open(\"./imgs/MNIST_images-for-verification\"))\n",
    "imgs = []\n",
    "for img in raw_imgs\n",
    "    img = vcat([w' for w in img] ...)\n",
    "    img = vcat(img'...)\n",
    "    push!(imgs, img)\n",
    "end\n",
    "labels = Pickle.load(open(\"./imgs/MNIST_labels-for-verification\", \"r+\"))\n",
    "labels = [l+1 for l in labels]\n",
    "\n",
    "print(\"images loaded\\n\")\n",
    "write(\"results.txt\", \"Model\\tUpper Bound\\tLower Bound\\tTime\\tEpsilon\\n\")"
   ]
  },
  {
   "cell_type": "markdown",
   "metadata": {},
   "source": [
    "# Cayley Embedding Solution"
   ]
  },
  {
   "cell_type": "code",
   "execution_count": 10,
   "metadata": {
    "scrolled": true
   },
   "outputs": [
    {
     "name": "stdout",
     "output_type": "stream",
     "text": [
      "[\"./models/MNIST-DoReFa2_Dense256-Dense256-Dense256.pkl\", \"./models/MNIST-DoReFa2_Dense256-Dense256.pkl\", \"./models/MNIST-DoReFa3_Dense256-Dense256-Dense256.pkl\", \"./models/MNIST-DoReFa3_Dense256-Dense256.pkl\", \"./models/MNIST-DoReFa4_Dense256-Dense256-Dense256.pkl\", \"./models/MNIST-DoReFa4_Dense256-Dense256.pkl\", \"./models/MNIST-DoReFa5_Dense256-Dense256.pkl\", \"./models/MNIST-DoReFa6_Dense256-Dense256.pkl\", \"./models/MNIST-DoReFa7_Dense256-Dense256.pkl\"]\n",
      "upper bound: 150, lower bound: 0 \n",
      "Verify 1-th image \n"
     ]
    },
    {
     "ename": "BoundsError",
     "evalue": "BoundsError: attempt to access 2-element Vector{StaircaseFunction} at index [3]",
     "output_type": "error",
     "traceback": [
      "BoundsError: attempt to access 2-element Vector{StaircaseFunction} at index [3]\n",
      "\n",
      "Stacktrace:\n",
      " [1] getindex\n",
      "   @ ./essentials.jl:13 [inlined]\n",
      " [2] deep_poly(net::NeuralNetwork, img::Vector{Float64}, eps::Float64)\n",
      "   @ Main ~/OR-Research/LinSepVerify/DeepPoly.jl:203\n",
      " [3] init_mip_deeppoly(neural_net::NeuralNetwork, image::Vector{Float64}, eps::Float64)\n",
      "   @ Main ~/OR-Research/LinSepVerify/CayleyVerify.jl:461\n",
      " [4] target_attack(neural_net::NeuralNetwork, image::Vector{Float64}, true_label::Int64, target_label::Int64, eps::Float64, max_iter::Int64)\n",
      "   @ Main ~/OR-Research/LinSepVerify/CayleyVerify.jl:556\n",
      " [5] target_attack(neural_net::NeuralNetwork, image::Vector{Float64}, true_label::Int64, target_label::Int64, eps::Float64)\n",
      "   @ Main ~/OR-Research/LinSepVerify/CayleyVerify.jl:555\n",
      " [6] macro expansion\n",
      "   @ ~/OR-Research/LinSepVerify/Init_bound_with_deeppoly.ipynb:31 [inlined]\n",
      " [7] macro expansion\n",
      "   @ ~/.julia/packages/Suppressor/vewDh/src/Suppressor.jl:22 [inlined]\n",
      " [8] top-level scope\n",
      "   @ ~/OR-Research/LinSepVerify/Init_bound_with_deeppoly.ipynb:30"
     ]
    }
   ],
   "source": [
    "using Dates\n",
    "\n",
    "function collect_files(directory)\n",
    "    return [joinpath(directory, f) for f in readdir(directory) if isfile(joinpath(directory, f))]\n",
    "end\n",
    "\n",
    "# Usage\n",
    "\n",
    "models = collect_files(\"./models\")\n",
    "println(models)\n",
    "\n",
    "\n",
    "for file in models\n",
    "    for eps in [0.008, 0.016, 0.024, 0.032]\n",
    "        net_from_pickle = Pickle.load(open(file))\n",
    "        f = dorefa_to_staircase(1)\n",
    "        activation = [f, f]\n",
    "        neural_net = NeuralNetwork(net_from_pickle, activation)\n",
    "        start_time = now()\n",
    "        upper_bound = 150\n",
    "        lower_bound = 0\n",
    "        count = 1\n",
    "        for (img, label) in zip(imgs, labels)\n",
    "            ## can run these individually since it's 1:1 image to target_attack\n",
    "            @printf(\"upper bound: %d, lower bound: %d \\n\", upper_bound, lower_bound)\n",
    "            @printf(\"Verify %d-th image \\n\", count)\n",
    "            vulnerable = false\n",
    "            for target_label in 1:10\n",
    "                if target_label != label\n",
    "                    @suppress begin\n",
    "                        opt_val, opt_sol_x, opt_sol_z = target_attack(neural_net, img, label, target_label, eps)\n",
    "                        if opt_val > 0\n",
    "                            vulnerable = true\n",
    "                            adv_img = [opt_sol_x[1, j] for j in 1:784]\n",
    "                            pred = predict(neural_net, adv_img)\n",
    "                            if pred != label\n",
    "                                upper_bound -= 1\n",
    "                                break\n",
    "                            end\n",
    "                        end\n",
    "                    end\n",
    "                end\n",
    "            end\n",
    "            if vulnerable == false\n",
    "                lower_bound += 1\n",
    "            end\n",
    "            count += 1\n",
    "        end\n",
    "        end_time = now()\n",
    "        elapsed_time = Dates.value(end_time - start_time) / (1000 * 60)\n",
    "        open(\"results.txt\", \"a\") do file\n",
    "            write(file, \"./models/MNIST-DoReFa3_Dense256-Dense256.pkl\\t$upper_bound\\t$lower_bound\\t$elapsed_time\\t$eps\\n\")\n",
    "        end\n",
    "    end\n",
    "end\n",
    "\n",
    "\n"
   ]
  },
  {
   "cell_type": "code",
   "execution_count": 8,
   "metadata": {},
   "outputs": [
    {
     "name": "stdout",
     "output_type": "stream",
     "text": [
      "  0.130255 seconds (1.71 M allocations: 60.182 MiB, 6.58% gc time)\n"
     ]
    },
    {
     "ename": "OutOfMemoryError",
     "evalue": "OutOfMemoryError()",
     "output_type": "error",
     "traceback": [
      "OutOfMemoryError()\n",
      "\n",
      "Stacktrace:\n",
      " [1] Array\n",
      "   @ ./boot.jl:477 [inlined]\n",
      " [2] Array\n",
      "   @ ./boot.jl:486 [inlined]\n",
      " [3] zeros\n",
      "   @ ./array.jl:636 [inlined]\n",
      " [4] zeros\n",
      "   @ ./array.jl:633 [inlined]\n",
      " [5] zeros\n",
      "   @ ./array.jl:631 [inlined]\n",
      " [6] dorefa_to_staircase(k::Int64)\n",
      "   @ Main ~/OR-Research/LinSepVerify/Init_bound_with_deeppoly.ipynb:9\n",
      " [7] macro expansion\n",
      "   @ ./timing.jl:279 [inlined]\n",
      " [8] top-level scope\n",
      "   @ ~/OR-Research/LinSepVerify/Init_bound_with_deeppoly.ipynb:21"
     ]
    }
   ],
   "source": [
    "using Dates\n",
    "\n",
    "function collect_files(directory)\n",
    "    return [joinpath(directory, f) for f in readdir(directory) if isfile(joinpath(directory, f))]\n",
    "end\n",
    "\n",
    "# Usage\n",
    "\n",
    "files = collect_files(\"./models\")\n",
    "\n",
    "\n",
    "for file in files\n",
    "    GC.gc()\n",
    "    for eps in [0.008, 0.016, 0.024, 0.032]\n",
    "        GC.gc()\n",
    "        model = open(file)\n",
    "        @time net_from_pickle = Pickle.load(model)\n",
    "        close(model)\n",
    "        dorefa_int = convert(Int, file[22])\n",
    "        GC.gc()\n",
    "        @time f = dorefa_to_staircase(dorefa_int)\n",
    "        activation = [f, f]\n",
    "        neural_net = NeuralNetwork(net_from_pickle, activation)\n",
    "        start_time = now()\n",
    "        upper_bound = 150\n",
    "        lower_bound = 0\n",
    "        count = 1\n",
    "        for (raw_img, label) in zip(Pickle.load(\"./imgs/MNIST_images-for-verification\"), labels)\n",
    "            ## can run these individually since it's 1:1 image to target_attack\n",
    "            img = load_image(raw_img)\n",
    "            vulnerable = false\n",
    "            for target_label in 1:10\n",
    "                if target_label != label\n",
    "                    @suppress begin\n",
    "                        opt_val, opt_sol_x, opt_sol_z = target_attack(neural_net, img, label, target_label, eps)\n",
    "                        if opt_val > 0\n",
    "                            vulnerable = true\n",
    "                            adv_img = [opt_sol_x[1, j] for j in 1:784]\n",
    "                            pred = predict(neural_net, adv_img)\n",
    "                            if pred != label\n",
    "                                upper_bound -= 1\n",
    "                                break\n",
    "                            end\n",
    "                        end\n",
    "                    end\n",
    "                end\n",
    "            end\n",
    "            if vulnerable == false\n",
    "                lower_bound += 1\n",
    "            end\n",
    "            count += 1\n",
    "        end\n",
    "        end_time = now()\n",
    "        elapsed_time = Dates.value(end_time - start_time) / (1000 * 60)\n",
    "        #open(\"results.txt\", \"a\") do output_file\n",
    "        #    write(output_file, \"$file\\t$upper_bound\\t$lower_bound\\t$elapsed_time\\t$eps\\n\")\n",
    "        #    print(\"$file\\t$upper_bound\\t$lower_bound\\t$elapsed_time\\t$eps\\n\")\n",
    "        #end\n",
    "    end\n",
    "end\n",
    "\n",
    "\n"
   ]
  },
  {
   "cell_type": "code",
   "execution_count": null,
   "metadata": {},
   "outputs": [],
   "source": [
    "using Dates\n",
    "\n",
    "function collect_files(directory)\n",
    "    return [joinpath(directory, f) for f in readdir(directory) if isfile(joinpath(directory, f))]\n",
    "end\n",
    "\n",
    "# Usage\n",
    "\n",
    "models = collect_files(\"./models\")\n",
    "println(models)\n",
    "results = [[\"Model\", \"Upper Bound\", \"Lower Bound\", \"Time\", \"Epsilon\"]]\n",
    "\n",
    "\n",
    "for eps in [0.008, 0.016, 0.024, 0.032]\n",
    "    net_from_pickle = Pickle.load(open(\"./models/MNIST-DoReFa4_Dense256-Dense256.pkl\"))\n",
    "    f = dorefa_to_staircase(4)\n",
    "    activation = [f, f]\n",
    "    neural_net = NeuralNetwork(net_from_pickle, activation)\n",
    "    start_time = now()\n",
    "    upper_bound = 150\n",
    "    lower_bound = 0\n",
    "    count = 1\n",
    "    for (img, label) in zip(imgs, labels)\n",
    "        @printf(\"upper bound: %d, lower bound: %d \\n\", upper_bound, lower_bound)\n",
    "        @printf(\"Verify %d-th image \\n\", count)\n",
    "        vulnerable = false\n",
    "        for target_label in 1:10\n",
    "            if target_label != label\n",
    "                @suppress begin\n",
    "                    opt_val, opt_sol_x, opt_sol_z = target_attack(neural_net, img, label, target_label, eps)\n",
    "                    if opt_val > 0\n",
    "                        vulnerable = true\n",
    "                        adv_img = [opt_sol_x[1, j] for j in 1:784]\n",
    "                        pred = predict(neural_net, adv_img)\n",
    "                        if pred != label\n",
    "                            upper_bound -= 1\n",
    "                            break\n",
    "                        end\n",
    "                    end\n",
    "                end\n",
    "            end\n",
    "        end\n",
    "        if vulnerable == false\n",
    "            lower_bound += 1\n",
    "        end\n",
    "        count += 1\n",
    "    end\n",
    "    end_time = now()\n",
    "    elapsed_time = Dates.value(end_time - start_time) / (1000 * 60)\n",
    "    push!(results, [\"./models/MNIST-DoReFa4_Dense256-Dense256.pkl\", upper_bound,  lower_bound, elapsed_time, eps])\n",
    "end\n",
    "\n",
    "\n"
   ]
  },
  {
   "cell_type": "code",
   "execution_count": 11,
   "metadata": {},
   "outputs": [
    {
     "data": {
      "text/plain": [
       "upper_bound (generic function with 2 methods)"
      ]
     },
     "metadata": {},
     "output_type": "display_data"
    }
   ],
   "source": [
    "upper_bound"
   ]
  },
  {
   "cell_type": "code",
   "execution_count": 12,
   "metadata": {},
   "outputs": [
    {
     "data": {
      "text/plain": [
       "lower_bound (generic function with 2 methods)"
      ]
     },
     "metadata": {},
     "output_type": "display_data"
    }
   ],
   "source": [
    "lower_bound"
   ]
  },
  {
   "cell_type": "code",
   "execution_count": 13,
   "metadata": {},
   "outputs": [
    {
     "data": {
      "text/plain": [
       "upper_bound (generic function with 2 methods)"
      ]
     },
     "metadata": {},
     "output_type": "display_data"
    }
   ],
   "source": [
    "upper_bound"
   ]
  },
  {
   "cell_type": "code",
   "execution_count": 14,
   "metadata": {},
   "outputs": [
    {
     "data": {
      "text/plain": [
       "lower_bound (generic function with 2 methods)"
      ]
     },
     "metadata": {},
     "output_type": "display_data"
    }
   ],
   "source": [
    "lower_bound"
   ]
  },
  {
   "cell_type": "code",
   "execution_count": 15,
   "metadata": {},
   "outputs": [
    {
     "data": {
      "text/plain": [
       "upper_bound (generic function with 2 methods)"
      ]
     },
     "metadata": {},
     "output_type": "display_data"
    }
   ],
   "source": [
    "upper_bound"
   ]
  },
  {
   "cell_type": "code",
   "execution_count": 16,
   "metadata": {},
   "outputs": [
    {
     "data": {
      "text/plain": [
       "lower_bound (generic function with 2 methods)"
      ]
     },
     "metadata": {},
     "output_type": "display_data"
    }
   ],
   "source": [
    "lower_bound"
   ]
  },
  {
   "cell_type": "code",
   "execution_count": 17,
   "metadata": {},
   "outputs": [
    {
     "data": {
      "text/plain": [
       "upper_bound (generic function with 2 methods)"
      ]
     },
     "metadata": {},
     "output_type": "display_data"
    }
   ],
   "source": [
    "upper_bound"
   ]
  },
  {
   "cell_type": "code",
   "execution_count": 18,
   "metadata": {},
   "outputs": [
    {
     "data": {
      "text/plain": [
       "lower_bound (generic function with 2 methods)"
      ]
     },
     "metadata": {},
     "output_type": "display_data"
    }
   ],
   "source": [
    "lower_bound"
   ]
  },
  {
   "cell_type": "code",
   "execution_count": 19,
   "metadata": {},
   "outputs": [
    {
     "data": {
      "text/plain": [
       "upper_bound (generic function with 2 methods)"
      ]
     },
     "metadata": {},
     "output_type": "display_data"
    }
   ],
   "source": [
    "upper_bound"
   ]
  },
  {
   "cell_type": "code",
   "execution_count": 20,
   "metadata": {},
   "outputs": [
    {
     "data": {
      "text/plain": [
       "lower_bound (generic function with 2 methods)"
      ]
     },
     "metadata": {},
     "output_type": "display_data"
    }
   ],
   "source": [
    "lower_bound"
   ]
  },
  {
   "cell_type": "code",
   "execution_count": 21,
   "metadata": {},
   "outputs": [
    {
     "data": {
      "text/plain": [
       "upper_bound (generic function with 2 methods)"
      ]
     },
     "metadata": {},
     "output_type": "display_data"
    }
   ],
   "source": [
    "upper_bound"
   ]
  },
  {
   "cell_type": "code",
   "execution_count": 1,
   "metadata": {},
   "outputs": [
    {
     "ename": "UndefVarError",
     "evalue": "UndefVarError: `Pickle` not defined",
     "output_type": "error",
     "traceback": [
      "UndefVarError: `Pickle` not defined\n",
      "\n",
      "Stacktrace:\n",
      " [1] top-level scope\n",
      "   @ ~/OR-Research/LinSepVerify/Init_bound_with_deeppoly.ipynb:1"
     ]
    }
   ],
   "source": [
    "net_from_pickle = Pickle.load(open(\"./models/MNIST-DoReFa3_Dense256-Dense256.pkl\"))\n",
    "f = dorefa_to_staircase(3)\n",
    "activation = [f, f]\n",
    "neural_net = NeuralNetwork(net_from_pickle, activation)\n",
    "print(\"net loaded\")"
   ]
  },
  {
   "cell_type": "markdown",
   "metadata": {},
   "source": [
    "# Big-M Solution"
   ]
  },
  {
   "cell_type": "code",
   "execution_count": 7,
   "metadata": {
    "scrolled": true
   },
   "outputs": [
    {
     "name": "stdout",
     "output_type": "stream",
     "text": [
      "Verify 1-th image \n",
      "Verify 2-th image \n",
      "Verify 3-th image \n",
      "Verify 4-th image \n",
      "Verify 5-th image \n",
      "Verify 6-th image \n",
      "Verify 7-th image \n",
      "Verify 8-th image \n",
      "Verify 9-th image \n",
      "Verify 10-th image \n",
      "Verify 11-th image \n",
      "Verify 12-th image \n",
      "Verify 13-th image \n",
      "Verify 14-th image \n",
      "Verify 15-th image \n",
      "Verify 16-th image \n",
      "Verify 17-th image \n",
      "Verify 18-th image \n",
      "Verify 19-th image \n",
      "Verify 20-th image \n",
      "Verify 21-th image \n",
      "Verify 22-th image \n",
      "Verify 23-th image \n",
      "Verify 24-th image \n",
      "Verify 25-th image \n",
      "Verify 26-th image \n",
      "Verify 27-th image \n",
      "Verify 28-th image \n"
     ]
    }
   ],
   "source": [
    "upper_bound = 150\n",
    "lower_bound = 0\n",
    "count = 1\n",
    "for (img, label) in zip(imgs, labels)\n",
    "    @printf(\"Verify %d-th image \\n\", count)\n",
    "    vulnerable = false\n",
    "    for target_label in 1:10\n",
    "        if target_label != label\n",
    "            @suppress begin\n",
    "                mip, _, _ = init_mip_deeppoly(neural_net, img, 0.024)\n",
    "                last_layer = last(neural_net.weights)\n",
    "                objective = zeros(10) # always 10 classes\n",
    "                objective[target_label] = 1.0\n",
    "                objective[label] = -1.0\n",
    "                c = last_layer * objective\n",
    "\n",
    "                num_layers = length(neural_net.weights)\n",
    "                final_dim, output_dim = size(last_layer)\n",
    "                @objective(mip, Max, sum(c[i]*mip[:x][num_layers, i] for i in 1:final_dim))\n",
    "                optimize!(mip)\n",
    "                opt_val = objective_value(mip)\n",
    "                if opt_val > 0\n",
    "                    vulnerable = true\n",
    "                    break\n",
    "                end\n",
    "            end\n",
    "        end\n",
    "    end\n",
    "    if vulnerable == false\n",
    "        lower_bound += 1\n",
    "    end\n",
    "    count += 1\n",
    "end"
   ]
  },
  {
   "cell_type": "code",
   "execution_count": null,
   "metadata": {},
   "outputs": [],
   "source": [
    "lower_bound"
   ]
  },
  {
   "cell_type": "code",
   "execution_count": null,
   "metadata": {},
   "outputs": [],
   "source": [
    "lower_bound"
   ]
  },
  {
   "cell_type": "code",
   "execution_count": null,
   "metadata": {},
   "outputs": [],
   "source": [
    "lower_bound"
   ]
  },
  {
   "cell_type": "code",
   "execution_count": null,
   "metadata": {},
   "outputs": [],
   "source": [
    "lower_bound"
   ]
  },
  {
   "cell_type": "code",
   "execution_count": null,
   "metadata": {},
   "outputs": [],
   "source": [
    "lower_bound"
   ]
  },
  {
   "cell_type": "code",
   "execution_count": null,
   "metadata": {},
   "outputs": [],
   "source": [
    "lower_bound"
   ]
  },
  {
   "cell_type": "code",
   "execution_count": null,
   "metadata": {},
   "outputs": [],
   "source": []
  }
 ],
 "metadata": {
  "kernelspec": {
   "display_name": "Julia 1.10.2",
   "language": "julia",
   "name": "julia-1.10"
  },
  "language_info": {
   "file_extension": ".jl",
   "mimetype": "application/julia",
   "name": "julia",
   "version": "1.10.2"
  }
 },
 "nbformat": 4,
 "nbformat_minor": 4
}
