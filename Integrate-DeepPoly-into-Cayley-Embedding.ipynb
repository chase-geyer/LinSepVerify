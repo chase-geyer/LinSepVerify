{
 "cells": [
  {
   "cell_type": "code",
   "execution_count": 17,
   "metadata": {},
   "outputs": [
    {
     "name": "stderr",
     "output_type": "stream",
     "text": [
      "\u001b[32m\u001b[1m   Resolving\u001b[22m\u001b[39m package versions...\n",
      "\u001b[32m\u001b[1m  No Changes\u001b[22m\u001b[39m to `~/OR-Research/LinSepVerify/Project.toml`\n",
      "\u001b[32m\u001b[1m  No Changes\u001b[22m\u001b[39m to `~/OR-Research/LinSepVerify/Manifest.toml`\n"
     ]
    },
    {
     "data": {
      "text/plain": [
       "predict (generic function with 1 method)"
      ]
     },
     "metadata": {},
     "output_type": "display_data"
    }
   ],
   "source": [
    "import Pkg; \n",
    "Pkg.add(\"MathOptInterface\")\n",
    "include(\"CayleyVerify.jl\")\n",
    "include(\"DeepPoly.jl\")\n",
    "\n",
    "# utility functions\n",
    "function dorefa_to_staircase(k::Int)\n",
    "    n = 2^k - 1\n",
    "    slopes = zeros(n+1)\n",
    "    breakpoints = [-Inf]\n",
    "    for i in 1:n\n",
    "        push!(breakpoints, (2*i-1)/n - 1)\n",
    "    end\n",
    "    push!(breakpoints, Inf)\n",
    "    \n",
    "    constant_terms = [-1.0]\n",
    "    for i in 1:n\n",
    "        push!(constant_terms, -1.0 + 2*i/n)\n",
    "    end\n",
    "    return StaircaseFunction(breakpoints, slopes, constant_terms)\n",
    "end\n",
    "\n",
    "function predict(neural_net, img)\n",
    "    num_layers = length(neural_net.weights)\n",
    "    a = img'\n",
    "    for i in 1:num_layers\n",
    "        a = a * neural_net.weights[i] + neural_net.biases[i]'\n",
    "        if i <= num_layers -1\n",
    "            a = [eval(neural_net.activation[i], a[j]) for j in 1:length(a)]'\n",
    "            print(a)\n",
    "            print(\"\\n----\\n\")\n",
    "        end\n",
    "    end\n",
    "    output = a'\n",
    "    print(output)\n",
    "    return findmax(output)[2]\n",
    "end"
   ]
  },
  {
   "cell_type": "code",
   "execution_count": 18,
   "metadata": {},
   "outputs": [
    {
     "name": "stdout",
     "output_type": "stream",
     "text": [
      "net loaded"
     ]
    }
   ],
   "source": [
    "import Pickle\n",
    "using Suppressor\n",
    "net_from_pickle = Pickle.load(open(\"./models/MNIST-DoReFa2_Dense256-Dense256.pkl\"))\n",
    "f = dorefa_to_staircase(2)\n",
    "activation = [f, f]\n",
    "neural_net = NeuralNetwork(net_from_pickle, activation)\n",
    "print(\"net loaded\")"
   ]
  },
  {
   "cell_type": "code",
   "execution_count": 19,
   "metadata": {},
   "outputs": [
    {
     "name": "stdout",
     "output_type": "stream",
     "text": [
      "images loaded"
     ]
    }
   ],
   "source": [
    "raw_imgs = Pickle.load(open(\"./imgs/MNIST_images-for-verification\"))\n",
    "imgs = []\n",
    "for img in raw_imgs\n",
    "    img = vcat([w' for w in img] ...)\n",
    "    img = vcat(img'...)\n",
    "    push!(imgs, img)\n",
    "end\n",
    "labels = Pickle.load(open(\"./imgs/MNIST_labels-for-verification\"))\n",
    "labels = Array{Int64}(labels.args[2][5])\n",
    "labels = [l+1 for l in labels]\n",
    "print(\"images loaded\")"
   ]
  },
  {
   "cell_type": "markdown",
   "metadata": {},
   "source": [
    "# Big-M Formulation"
   ]
  },
  {
   "cell_type": "code",
   "execution_count": 20,
   "metadata": {},
   "outputs": [],
   "source": [
    "using Suppressor\n",
    "eps = 0.008\n",
    "robust = 150\n",
    "for (i,img) in enumerate(imgs)\n",
    "    @suppress begin\n",
    "        mip, variable_neuron_dict, neuron_integervar_dict = init_mip_deeppoly(neural_net, img, eps)\n",
    "        true_label = labels[i]\n",
    "\n",
    "        for j in 1:10\n",
    "            if j != true_label\n",
    "                target_label = j\n",
    "                last_layer = last(neural_net.weights)\n",
    "                objective = zeros(10)\n",
    "                objective[target_label] = 1.0\n",
    "                objective[true_label] = -1.0\n",
    "                c = last_layer * objective\n",
    "                num_layers = length(neural_net.weights)\n",
    "                final_dim, output_dim = size(last_layer)\n",
    "                @objective(mip, Max, sum(c[i]*mip[:x][num_layers, i] for i in 1:final_dim))\n",
    "                optimize!(mip)\n",
    "                opt_val = objective_value(mip)\n",
    "                if opt_val > 0\n",
    "                    robust -= 1\n",
    "                    break\n",
    "                end\n",
    "            end\n",
    "        end\n",
    "    end\n",
    "end"
   ]
  },
  {
   "cell_type": "code",
   "execution_count": null,
   "metadata": {},
   "outputs": [],
   "source": [
    "robust"
   ]
  },
  {
   "cell_type": "markdown",
   "metadata": {},
   "source": [
    "# Cayley Embedding"
   ]
  },
  {
   "cell_type": "code",
   "execution_count": null,
   "metadata": {
    "scrolled": true
   },
   "outputs": [],
   "source": [
    "eps = 0.032\n",
    "robust = 150\n",
    "for (i,img) in enumerate(imgs)\n",
    "    print(\"verifying image \", i)\n",
    "    print(\"\\n\")\n",
    "    @suppress begin\n",
    "        true_label = labels[i]\n",
    "        for j in 1:10\n",
    "            if j != true_label\n",
    "                target_label = j\n",
    "                opt_val, opt_sol_x, opt_sol_z, mip = target_attack(neural_net, img, true_label, target_label, eps)\n",
    "                if opt_val > 0\n",
    "                    robust -= 1\n",
    "                    break\n",
    "                end\n",
    "            end\n",
    "        end\n",
    "    end\n",
    "end\n"
   ]
  },
  {
   "cell_type": "code",
   "execution_count": null,
   "metadata": {
    "scrolled": true
   },
   "outputs": [],
   "source": [
    "robust"
   ]
  },
  {
   "cell_type": "code",
   "execution_count": null,
   "metadata": {},
   "outputs": [],
   "source": []
  }
 ],
 "metadata": {
  "kernelspec": {
   "display_name": "Julia 1.9.4",
   "language": "julia",
   "name": "julia-1.9"
  },
  "language_info": {
   "file_extension": ".jl",
   "mimetype": "application/julia",
   "name": "julia",
   "version": "1.9.4"
  }
 },
 "nbformat": 4,
 "nbformat_minor": 5
}
